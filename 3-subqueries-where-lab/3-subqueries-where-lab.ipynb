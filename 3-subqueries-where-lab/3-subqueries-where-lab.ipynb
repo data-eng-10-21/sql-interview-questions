{
 "cells": [
  {
   "cell_type": "markdown",
   "id": "12a0363a-90f2-496e-9e24-000129d311cf",
   "metadata": {},
   "source": [
    "# Subqueries Where Lab"
   ]
  },
  {
   "cell_type": "markdown",
   "id": "f305c0b9-e00c-4f46-a3ee-393ca7c3bcee",
   "metadata": {},
   "source": [
    "### Introduction"
   ]
  },
  {
   "cell_type": "markdown",
   "id": "30af8f4b-9e1f-4017-9ce5-1e9f762130a3",
   "metadata": {},
   "source": [
    "In this lesson, we'll work through a leetcode problem that can be solved using a subquery.  Let's get started."
   ]
  },
  {
   "cell_type": "markdown",
   "id": "e053dc40-6462-4747-8852-a0918075e5af",
   "metadata": {},
   "source": [
    "### Loading our Data"
   ]
  },
  {
   "cell_type": "markdown",
   "id": "e6f101b4-6174-4c3c-a085-5453aa7988f2",
   "metadata": {},
   "source": [
    "First, we'll load our data into the database."
   ]
  },
  {
   "cell_type": "code",
   "execution_count": 24,
   "id": "06aff899-9749-4bce-b16c-d3c324c95cb9",
   "metadata": {},
   "outputs": [],
   "source": [
    "import pandas as pd\n",
    "def build_dataframe(data):\n",
    "    columns = data['headers']\n",
    "    values = data['values']\n",
    "    df = pd.DataFrame(values)\n",
    "    df.columns = columns\n",
    "    return df"
   ]
  },
  {
   "cell_type": "code",
   "execution_count": 25,
   "id": "b4bf8e0b-354f-4f86-bd8e-bf8d09bfd617",
   "metadata": {},
   "outputs": [],
   "source": [
    "customers = {\"headers\": [\"id\", \"name\"], \"values\": [[1, \"Joe\"], [2, \"Henry\"], [3, \"Sam\"], [4, \"Max\"]]}"
   ]
  },
  {
   "cell_type": "code",
   "execution_count": 26,
   "id": "d6a6d881-0585-4e9b-92db-9367b7b01ec9",
   "metadata": {},
   "outputs": [],
   "source": [
    "orders = {\"headers\": [\"id\", \"customerId\"], \"values\": [[1, 3], [2, 1]]}"
   ]
  },
  {
   "cell_type": "code",
   "execution_count": 27,
   "id": "6145a6c0-18ba-4805-8f71-e03e90f3ad29",
   "metadata": {},
   "outputs": [],
   "source": [
    "customers_df = build_dataframe(customers)"
   ]
  },
  {
   "cell_type": "code",
   "execution_count": 28,
   "id": "32d99747-6ea5-4355-9664-a0e29cda09eb",
   "metadata": {},
   "outputs": [],
   "source": [
    "orders_df = build_dataframe(orders)"
   ]
  },
  {
   "cell_type": "code",
   "execution_count": 29,
   "id": "4b284f24-3f2b-41f0-89d2-db333891dd9f",
   "metadata": {},
   "outputs": [],
   "source": [
    "import sqlite3\n",
    "\n",
    "conn = sqlite3.connect('crm.db')"
   ]
  },
  {
   "cell_type": "code",
   "execution_count": 30,
   "id": "b9c6ed1b-8f76-425d-a7e4-b5c11c8407b3",
   "metadata": {},
   "outputs": [
    {
     "data": {
      "text/plain": [
       "2"
      ]
     },
     "execution_count": 30,
     "metadata": {},
     "output_type": "execute_result"
    }
   ],
   "source": [
    "customers_df.to_sql('customers', conn, if_exists = 'replace', index = False)\n",
    "orders_df.to_sql('orders', conn, if_exists = 'replace', index = False)"
   ]
  },
  {
   "cell_type": "markdown",
   "id": "bc665b47-b463-41ca-8792-98ee05d722d8",
   "metadata": {},
   "source": [
    "### Viewing our data"
   ]
  },
  {
   "cell_type": "markdown",
   "id": "fe6db72c-d291-4447-b8ea-1acbb351bb7e",
   "metadata": {},
   "source": [
    "So as you can see, that we now have two tables loaded - customers and orders."
   ]
  },
  {
   "cell_type": "code",
   "execution_count": 20,
   "id": "6bf78340-d5e0-410a-8961-f0515b7570ab",
   "metadata": {},
   "outputs": [
    {
     "data": {
      "text/html": [
       "<div>\n",
       "<style scoped>\n",
       "    .dataframe tbody tr th:only-of-type {\n",
       "        vertical-align: middle;\n",
       "    }\n",
       "\n",
       "    .dataframe tbody tr th {\n",
       "        vertical-align: top;\n",
       "    }\n",
       "\n",
       "    .dataframe thead th {\n",
       "        text-align: right;\n",
       "    }\n",
       "</style>\n",
       "<table border=\"1\" class=\"dataframe\">\n",
       "  <thead>\n",
       "    <tr style=\"text-align: right;\">\n",
       "      <th></th>\n",
       "      <th>id</th>\n",
       "      <th>name</th>\n",
       "    </tr>\n",
       "  </thead>\n",
       "  <tbody>\n",
       "    <tr>\n",
       "      <th>0</th>\n",
       "      <td>1</td>\n",
       "      <td>Joe</td>\n",
       "    </tr>\n",
       "    <tr>\n",
       "      <th>1</th>\n",
       "      <td>2</td>\n",
       "      <td>Henry</td>\n",
       "    </tr>\n",
       "    <tr>\n",
       "      <th>2</th>\n",
       "      <td>3</td>\n",
       "      <td>Sam</td>\n",
       "    </tr>\n",
       "    <tr>\n",
       "      <th>3</th>\n",
       "      <td>4</td>\n",
       "      <td>Max</td>\n",
       "    </tr>\n",
       "  </tbody>\n",
       "</table>\n",
       "</div>"
      ],
      "text/plain": [
       "   id   name\n",
       "0   1    Joe\n",
       "1   2  Henry\n",
       "2   3    Sam\n",
       "3   4    Max"
      ]
     },
     "execution_count": 20,
     "metadata": {},
     "output_type": "execute_result"
    }
   ],
   "source": [
    "pd.read_sql('select * from customers', conn)"
   ]
  },
  {
   "cell_type": "code",
   "execution_count": 21,
   "id": "7c584f09-537e-4a06-af83-1797e7f16c53",
   "metadata": {},
   "outputs": [
    {
     "data": {
      "text/html": [
       "<div>\n",
       "<style scoped>\n",
       "    .dataframe tbody tr th:only-of-type {\n",
       "        vertical-align: middle;\n",
       "    }\n",
       "\n",
       "    .dataframe tbody tr th {\n",
       "        vertical-align: top;\n",
       "    }\n",
       "\n",
       "    .dataframe thead th {\n",
       "        text-align: right;\n",
       "    }\n",
       "</style>\n",
       "<table border=\"1\" class=\"dataframe\">\n",
       "  <thead>\n",
       "    <tr style=\"text-align: right;\">\n",
       "      <th></th>\n",
       "      <th>id</th>\n",
       "      <th>customerId</th>\n",
       "    </tr>\n",
       "  </thead>\n",
       "  <tbody>\n",
       "    <tr>\n",
       "      <th>0</th>\n",
       "      <td>1</td>\n",
       "      <td>3</td>\n",
       "    </tr>\n",
       "    <tr>\n",
       "      <th>1</th>\n",
       "      <td>2</td>\n",
       "      <td>1</td>\n",
       "    </tr>\n",
       "  </tbody>\n",
       "</table>\n",
       "</div>"
      ],
      "text/plain": [
       "   id  customerId\n",
       "0   1           3\n",
       "1   2           1"
      ]
     },
     "execution_count": 21,
     "metadata": {},
     "output_type": "execute_result"
    }
   ],
   "source": [
    "pd.read_sql('select * from orders', conn)"
   ]
  },
  {
   "cell_type": "markdown",
   "id": "0e740831-528a-499b-aa33-c5f2a0a91760",
   "metadata": {},
   "source": [
    "### Problem"
   ]
  },
  {
   "cell_type": "markdown",
   "id": "c7d0fd9b-3b66-44aa-a531-9ca3393072dd",
   "metadata": {},
   "source": [
    "> Write an SQL query to report all customers who never order anything."
   ]
  },
  {
   "cell_type": "code",
   "execution_count": 23,
   "id": "f442ffff-92a9-40d6-8505-2cee991cb641",
   "metadata": {},
   "outputs": [
    {
     "data": {
      "text/html": [
       "<div>\n",
       "<style scoped>\n",
       "    .dataframe tbody tr th:only-of-type {\n",
       "        vertical-align: middle;\n",
       "    }\n",
       "\n",
       "    .dataframe tbody tr th {\n",
       "        vertical-align: top;\n",
       "    }\n",
       "\n",
       "    .dataframe thead th {\n",
       "        text-align: right;\n",
       "    }\n",
       "</style>\n",
       "<table border=\"1\" class=\"dataframe\">\n",
       "  <thead>\n",
       "    <tr style=\"text-align: right;\">\n",
       "      <th></th>\n",
       "      <th>id</th>\n",
       "      <th>name</th>\n",
       "    </tr>\n",
       "  </thead>\n",
       "  <tbody>\n",
       "    <tr>\n",
       "      <th>0</th>\n",
       "      <td>2</td>\n",
       "      <td>Henry</td>\n",
       "    </tr>\n",
       "    <tr>\n",
       "      <th>1</th>\n",
       "      <td>4</td>\n",
       "      <td>Max</td>\n",
       "    </tr>\n",
       "  </tbody>\n",
       "</table>\n",
       "</div>"
      ],
      "text/plain": [
       "   id   name\n",
       "0   2  Henry\n",
       "1   4    Max"
      ]
     },
     "execution_count": 23,
     "metadata": {},
     "output_type": "execute_result"
    }
   ],
   "source": [
    "pd.read_sql('select * from customers where customers.id not in (select distinct customerId from orders)', conn)\n",
    "\n",
    "# \tid\tname\n",
    "# 0\t2\tHenry\n",
    "# 1\t4\tMax"
   ]
  }
 ],
 "metadata": {
  "kernelspec": {
   "display_name": "Python 3 (ipykernel)",
   "language": "python",
   "name": "python3"
  },
  "language_info": {
   "codemirror_mode": {
    "name": "ipython",
    "version": 3
   },
   "file_extension": ".py",
   "mimetype": "text/x-python",
   "name": "python",
   "nbconvert_exporter": "python",
   "pygments_lexer": "ipython3",
   "version": "3.9.10"
  }
 },
 "nbformat": 4,
 "nbformat_minor": 5
}
