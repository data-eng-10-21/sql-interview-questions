{
 "cells": [
  {
   "cell_type": "markdown",
   "id": "00775971-a6ee-47f9-9c5d-da11c658b617",
   "metadata": {},
   "source": [
    "# Subqueries Lab"
   ]
  },
  {
   "cell_type": "markdown",
   "id": "523b58ac-daee-42c7-a583-4cb946f6c871",
   "metadata": {},
   "source": [
    "### Introduction"
   ]
  },
  {
   "cell_type": "code",
   "execution_count": 9,
   "id": "bd0997b5-9a4d-4b41-936a-72e65efb2db3",
   "metadata": {},
   "outputs": [],
   "source": [
    "orders = {\"headers\": [\"order_number\", \"customer_number\"], \"values\": [[1, 1], [2, 2], [3, 3], [4, 3], [5, 1]]}"
   ]
  },
  {
   "cell_type": "code",
   "execution_count": 10,
   "id": "f4a2f862-d571-440c-a595-44506bb34594",
   "metadata": {},
   "outputs": [],
   "source": [
    "import pandas as pd\n",
    "def build_dataframe(data):\n",
    "    columns = data['headers']\n",
    "    values = data['values']\n",
    "    df = pd.DataFrame(values)\n",
    "    df.columns = columns\n",
    "    return df"
   ]
  },
  {
   "cell_type": "code",
   "execution_count": 11,
   "id": "058f71e3-7f60-4a65-9c12-96fbe0d4fe85",
   "metadata": {},
   "outputs": [],
   "source": [
    "import sqlite3\n",
    "\n",
    "conn = sqlite3.connect('crm.db')"
   ]
  },
  {
   "cell_type": "code",
   "execution_count": 12,
   "id": "2010dd27-906c-4e01-bfcc-81c36a962767",
   "metadata": {},
   "outputs": [],
   "source": [
    "orders_df = build_dataframe(orders)"
   ]
  },
  {
   "cell_type": "code",
   "execution_count": 13,
   "id": "db7dfa44-01ed-4da0-a41d-b5d739385996",
   "metadata": {},
   "outputs": [
    {
     "data": {
      "text/plain": [
       "5"
      ]
     },
     "execution_count": 13,
     "metadata": {},
     "output_type": "execute_result"
    }
   ],
   "source": [
    "orders_df.to_sql('orders', conn, if_exists = 'replace', index = False)"
   ]
  },
  {
   "cell_type": "markdown",
   "id": "c68302c7-021c-40f5-96ee-4e7b65277c45",
   "metadata": {},
   "source": [
    "### Viewing our Data"
   ]
  },
  {
   "cell_type": "code",
   "execution_count": 14,
   "id": "6650a9b6-c8ea-407a-8b96-b08ae4f2301e",
   "metadata": {},
   "outputs": [
    {
     "data": {
      "text/html": [
       "<div>\n",
       "<style scoped>\n",
       "    .dataframe tbody tr th:only-of-type {\n",
       "        vertical-align: middle;\n",
       "    }\n",
       "\n",
       "    .dataframe tbody tr th {\n",
       "        vertical-align: top;\n",
       "    }\n",
       "\n",
       "    .dataframe thead th {\n",
       "        text-align: right;\n",
       "    }\n",
       "</style>\n",
       "<table border=\"1\" class=\"dataframe\">\n",
       "  <thead>\n",
       "    <tr style=\"text-align: right;\">\n",
       "      <th></th>\n",
       "      <th>order_number</th>\n",
       "      <th>customer_number</th>\n",
       "    </tr>\n",
       "  </thead>\n",
       "  <tbody>\n",
       "    <tr>\n",
       "      <th>0</th>\n",
       "      <td>1</td>\n",
       "      <td>1</td>\n",
       "    </tr>\n",
       "    <tr>\n",
       "      <th>1</th>\n",
       "      <td>2</td>\n",
       "      <td>2</td>\n",
       "    </tr>\n",
       "    <tr>\n",
       "      <th>2</th>\n",
       "      <td>3</td>\n",
       "      <td>3</td>\n",
       "    </tr>\n",
       "    <tr>\n",
       "      <th>3</th>\n",
       "      <td>4</td>\n",
       "      <td>3</td>\n",
       "    </tr>\n",
       "    <tr>\n",
       "      <th>4</th>\n",
       "      <td>5</td>\n",
       "      <td>1</td>\n",
       "    </tr>\n",
       "  </tbody>\n",
       "</table>\n",
       "</div>"
      ],
      "text/plain": [
       "   order_number  customer_number\n",
       "0             1                1\n",
       "1             2                2\n",
       "2             3                3\n",
       "3             4                3\n",
       "4             5                1"
      ]
     },
     "execution_count": 14,
     "metadata": {},
     "output_type": "execute_result"
    }
   ],
   "source": [
    "pd.read_sql('select * from orders', conn)"
   ]
  },
  {
   "cell_type": "markdown",
   "id": "04b67464-2a0d-4968-8dad-4b574e014ca9",
   "metadata": {},
   "source": [
    "### Problem"
   ]
  },
  {
   "cell_type": "markdown",
   "id": "e927851b-0ede-40f5-b57d-1502045d6862",
   "metadata": {},
   "source": [
    "Write an SQL query to find the customer_number for the customer or customers who have placed the largest number of orders."
   ]
  },
  {
   "cell_type": "code",
   "execution_count": 19,
   "id": "d5451a3e-12e8-47c4-990f-a6ea8309fd66",
   "metadata": {},
   "outputs": [
    {
     "data": {
      "text/html": [
       "<div>\n",
       "<style scoped>\n",
       "    .dataframe tbody tr th:only-of-type {\n",
       "        vertical-align: middle;\n",
       "    }\n",
       "\n",
       "    .dataframe tbody tr th {\n",
       "        vertical-align: top;\n",
       "    }\n",
       "\n",
       "    .dataframe thead th {\n",
       "        text-align: right;\n",
       "    }\n",
       "</style>\n",
       "<table border=\"1\" class=\"dataframe\">\n",
       "  <thead>\n",
       "    <tr style=\"text-align: right;\">\n",
       "      <th></th>\n",
       "      <th>customer_number</th>\n",
       "      <th>total</th>\n",
       "    </tr>\n",
       "  </thead>\n",
       "  <tbody>\n",
       "    <tr>\n",
       "      <th>0</th>\n",
       "      <td>1</td>\n",
       "      <td>2</td>\n",
       "    </tr>\n",
       "    <tr>\n",
       "      <th>1</th>\n",
       "      <td>3</td>\n",
       "      <td>2</td>\n",
       "    </tr>\n",
       "  </tbody>\n",
       "</table>\n",
       "</div>"
      ],
      "text/plain": [
       "   customer_number  total\n",
       "0                1      2\n",
       "1                3      2"
      ]
     },
     "execution_count": 19,
     "metadata": {},
     "output_type": "execute_result"
    }
   ],
   "source": [
    "query = \"\"\" \n",
    "select customer_number, count(*) as total from orders group by customer_number having total =  (select count(*) amount from orders group by customer_number order by amount desc limit 1)\n",
    "\"\"\"\n",
    "\n",
    "pd.read_sql(query, conn)\n",
    "\n",
    "# customer_number\ttotal\n",
    "# 0\t1\t2\n",
    "# 1\t3\t2"
   ]
  },
  {
   "cell_type": "markdown",
   "id": "249a85dd-670e-42c3-8505-65b4841c206e",
   "metadata": {},
   "source": [
    "### References"
   ]
  },
  {
   "cell_type": "markdown",
   "id": "d4cdc051-b7b7-41cb-b884-cf46913351bb",
   "metadata": {},
   "source": [
    "[Customer largest orders](https://leetcode.com/problems/customer-placing-the-largest-number-of-orders/)"
   ]
  }
 ],
 "metadata": {
  "kernelspec": {
   "display_name": "Python 3 (ipykernel)",
   "language": "python",
   "name": "python3"
  },
  "language_info": {
   "codemirror_mode": {
    "name": "ipython",
    "version": 3
   },
   "file_extension": ".py",
   "mimetype": "text/x-python",
   "name": "python",
   "nbconvert_exporter": "python",
   "pygments_lexer": "ipython3",
   "version": "3.9.10"
  }
 },
 "nbformat": 4,
 "nbformat_minor": 5
}
