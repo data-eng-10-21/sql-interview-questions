{
 "cells": [
  {
   "cell_type": "markdown",
   "id": "0dc34943-d440-4fa0-adab-52e012da3dcb",
   "metadata": {},
   "source": [
    "# Reviewing Window Functions"
   ]
  },
  {
   "cell_type": "markdown",
   "id": "b69f3cff-de93-460c-b207-95fe4d1db545",
   "metadata": {},
   "source": [
    "### Introduction "
   ]
  },
  {
   "cell_type": "markdown",
   "id": "ecce9e43-579e-4fc4-a443-b1fa1cf703ea",
   "metadata": {},
   "source": [
    "In this lesson, we'll review window functions in SQL.  Let's get started."
   ]
  },
  {
   "cell_type": "markdown",
   "id": "1edaca97-eb0e-4602-a10e-2970dc5157f4",
   "metadata": {},
   "source": [
    "### Loading our Data"
   ]
  },
  {
   "cell_type": "markdown",
   "id": "255c611a-226a-45a4-8d6d-e0a2dbde8554",
   "metadata": {},
   "source": [
    "We can begin by loading our data from the [favorita kaggle competition](https://www.kaggle.com/c/favorita-grocery-sales-forecasting/data)."
   ]
  },
  {
   "cell_type": "code",
   "execution_count": 1,
   "id": "cfec5c0a-d8a5-4c09-b0d4-595cbab46fc4",
   "metadata": {},
   "outputs": [
    {
     "data": {
      "text/html": [
       "<div>\n",
       "<style scoped>\n",
       "    .dataframe tbody tr th:only-of-type {\n",
       "        vertical-align: middle;\n",
       "    }\n",
       "\n",
       "    .dataframe tbody tr th {\n",
       "        vertical-align: top;\n",
       "    }\n",
       "\n",
       "    .dataframe thead th {\n",
       "        text-align: right;\n",
       "    }\n",
       "</style>\n",
       "<table border=\"1\" class=\"dataframe\">\n",
       "  <thead>\n",
       "    <tr style=\"text-align: right;\">\n",
       "      <th></th>\n",
       "      <th>id</th>\n",
       "      <th>date</th>\n",
       "      <th>store_nbr</th>\n",
       "      <th>transactions</th>\n",
       "    </tr>\n",
       "  </thead>\n",
       "  <tbody>\n",
       "    <tr>\n",
       "      <th>0</th>\n",
       "      <td>0</td>\n",
       "      <td>2013-01-01</td>\n",
       "      <td>25</td>\n",
       "      <td>770</td>\n",
       "    </tr>\n",
       "    <tr>\n",
       "      <th>1</th>\n",
       "      <td>1</td>\n",
       "      <td>2013-01-02</td>\n",
       "      <td>1</td>\n",
       "      <td>2111</td>\n",
       "    </tr>\n",
       "  </tbody>\n",
       "</table>\n",
       "</div>"
      ],
      "text/plain": [
       "   id        date  store_nbr  transactions\n",
       "0   0  2013-01-01         25           770\n",
       "1   1  2013-01-02          1          2111"
      ]
     },
     "execution_count": 1,
     "metadata": {},
     "output_type": "execute_result"
    }
   ],
   "source": [
    "import pandas as pd\n",
    "url = \"./favorita_transactions.csv\"\n",
    "df = pd.read_csv(url)\n",
    "df[:2]"
   ]
  },
  {
   "cell_type": "markdown",
   "id": "09a26541-17a0-44f8-ac6e-9bd548ce78d9",
   "metadata": {},
   "source": [
    "And then load the data into our database."
   ]
  },
  {
   "cell_type": "code",
   "execution_count": 2,
   "id": "5f09b01c-c5d4-4e18-a5d9-8408b01cb74d",
   "metadata": {},
   "outputs": [],
   "source": [
    "import sqlite3\n",
    "conn = sqlite3.connect('grocery.db')"
   ]
  },
  {
   "cell_type": "code",
   "execution_count": 6,
   "id": "802108a4-41e3-440b-8771-d214cc7e16cf",
   "metadata": {},
   "outputs": [
    {
     "data": {
      "text/plain": [
       "83488"
      ]
     },
     "execution_count": 6,
     "metadata": {},
     "output_type": "execute_result"
    }
   ],
   "source": [
    "df.to_sql('store_transactions', conn, index = False, if_exists = 'replace')"
   ]
  },
  {
   "cell_type": "markdown",
   "id": "7d026e5b-535a-4b83-93ae-fa79e7dbd2bf",
   "metadata": {},
   "source": [
    "### Introducing Window Functions"
   ]
  },
  {
   "cell_type": "markdown",
   "id": "14a59020-57ac-409d-9d81-71efe0d9a3f7",
   "metadata": {},
   "source": [
    "Before getting to window functions, let's quickly review our group by functions.  We start with a table that has the number of transactions per store per day."
   ]
  },
  {
   "cell_type": "code",
   "execution_count": 9,
   "id": "7e6e8d31-b1c9-45a7-9445-6ea410b25231",
   "metadata": {},
   "outputs": [
    {
     "data": {
      "text/html": [
       "<div>\n",
       "<style scoped>\n",
       "    .dataframe tbody tr th:only-of-type {\n",
       "        vertical-align: middle;\n",
       "    }\n",
       "\n",
       "    .dataframe tbody tr th {\n",
       "        vertical-align: top;\n",
       "    }\n",
       "\n",
       "    .dataframe thead th {\n",
       "        text-align: right;\n",
       "    }\n",
       "</style>\n",
       "<table border=\"1\" class=\"dataframe\">\n",
       "  <thead>\n",
       "    <tr style=\"text-align: right;\">\n",
       "      <th></th>\n",
       "      <th>id</th>\n",
       "      <th>date</th>\n",
       "      <th>store_nbr</th>\n",
       "      <th>transactions</th>\n",
       "    </tr>\n",
       "  </thead>\n",
       "  <tbody>\n",
       "    <tr>\n",
       "      <th>0</th>\n",
       "      <td>0</td>\n",
       "      <td>2013-01-01</td>\n",
       "      <td>25</td>\n",
       "      <td>770</td>\n",
       "    </tr>\n",
       "    <tr>\n",
       "      <th>1</th>\n",
       "      <td>1</td>\n",
       "      <td>2013-01-02</td>\n",
       "      <td>1</td>\n",
       "      <td>2111</td>\n",
       "    </tr>\n",
       "    <tr>\n",
       "      <th>2</th>\n",
       "      <td>2</td>\n",
       "      <td>2013-01-02</td>\n",
       "      <td>2</td>\n",
       "      <td>2358</td>\n",
       "    </tr>\n",
       "  </tbody>\n",
       "</table>\n",
       "</div>"
      ],
      "text/plain": [
       "   id        date  store_nbr  transactions\n",
       "0   0  2013-01-01         25           770\n",
       "1   1  2013-01-02          1          2111\n",
       "2   2  2013-01-02          2          2358"
      ]
     },
     "execution_count": 9,
     "metadata": {},
     "output_type": "execute_result"
    }
   ],
   "source": [
    "pd.read_sql('SELECT * FROM store_transactions LIMIT 3', conn)"
   ]
  },
  {
   "cell_type": "markdown",
   "id": "ca4002bc-45d9-4373-aabf-3733c3abf5cf",
   "metadata": {},
   "source": [
    "And if we want to calculate the average number of transactions per day across all scores we do something like the following."
   ]
  },
  {
   "cell_type": "code",
   "execution_count": 8,
   "id": "c42cfb16-29db-4e9f-8123-94ddbf93635e",
   "metadata": {},
   "outputs": [
    {
     "data": {
      "text/html": [
       "<div>\n",
       "<style scoped>\n",
       "    .dataframe tbody tr th:only-of-type {\n",
       "        vertical-align: middle;\n",
       "    }\n",
       "\n",
       "    .dataframe tbody tr th {\n",
       "        vertical-align: top;\n",
       "    }\n",
       "\n",
       "    .dataframe thead th {\n",
       "        text-align: right;\n",
       "    }\n",
       "</style>\n",
       "<table border=\"1\" class=\"dataframe\">\n",
       "  <thead>\n",
       "    <tr style=\"text-align: right;\">\n",
       "      <th></th>\n",
       "      <th>avg_transactions</th>\n",
       "    </tr>\n",
       "  </thead>\n",
       "  <tbody>\n",
       "    <tr>\n",
       "      <th>0</th>\n",
       "      <td>1694.602158</td>\n",
       "    </tr>\n",
       "  </tbody>\n",
       "</table>\n",
       "</div>"
      ],
      "text/plain": [
       "   avg_transactions\n",
       "0       1694.602158"
      ]
     },
     "execution_count": 8,
     "metadata": {},
     "output_type": "execute_result"
    }
   ],
   "source": [
    "query = '''SELECT AVG(transactions)\n",
    "            as avg_transactions \n",
    "            FROM store_transactions'''\n",
    "pd.read_sql(query, conn)"
   ]
  },
  {
   "cell_type": "markdown",
   "id": "d92f7ab4-06bc-4420-8cbc-2b4d3929fdf1",
   "metadata": {},
   "source": [
    "So above, we just calculated the average amount of transactions across our entire dataset.  Notice that we reduced the number of rows to just one."
   ]
  },
  {
   "cell_type": "markdown",
   "id": "520ddc36-1794-4490-875f-a953e77ef427",
   "metadata": {},
   "source": [
    "Now let's see a similar query, but this time we'll use  a window function."
   ]
  },
  {
   "cell_type": "code",
   "execution_count": 11,
   "id": "d109cd86-c105-46ed-9100-9316ea76e5b0",
   "metadata": {},
   "outputs": [
    {
     "data": {
      "text/html": [
       "<div>\n",
       "<style scoped>\n",
       "    .dataframe tbody tr th:only-of-type {\n",
       "        vertical-align: middle;\n",
       "    }\n",
       "\n",
       "    .dataframe tbody tr th {\n",
       "        vertical-align: top;\n",
       "    }\n",
       "\n",
       "    .dataframe thead th {\n",
       "        text-align: right;\n",
       "    }\n",
       "</style>\n",
       "<table border=\"1\" class=\"dataframe\">\n",
       "  <thead>\n",
       "    <tr style=\"text-align: right;\">\n",
       "      <th></th>\n",
       "      <th>date</th>\n",
       "      <th>store_nbr</th>\n",
       "      <th>transactions</th>\n",
       "      <th>avg_transactions</th>\n",
       "    </tr>\n",
       "  </thead>\n",
       "  <tbody>\n",
       "    <tr>\n",
       "      <th>0</th>\n",
       "      <td>2013-01-01</td>\n",
       "      <td>25</td>\n",
       "      <td>770</td>\n",
       "      <td>1694.602158</td>\n",
       "    </tr>\n",
       "    <tr>\n",
       "      <th>1</th>\n",
       "      <td>2013-01-02</td>\n",
       "      <td>1</td>\n",
       "      <td>2111</td>\n",
       "      <td>1694.602158</td>\n",
       "    </tr>\n",
       "    <tr>\n",
       "      <th>2</th>\n",
       "      <td>2013-01-02</td>\n",
       "      <td>2</td>\n",
       "      <td>2358</td>\n",
       "      <td>1694.602158</td>\n",
       "    </tr>\n",
       "  </tbody>\n",
       "</table>\n",
       "</div>"
      ],
      "text/plain": [
       "         date  store_nbr  transactions  avg_transactions\n",
       "0  2013-01-01         25           770       1694.602158\n",
       "1  2013-01-02          1          2111       1694.602158\n",
       "2  2013-01-02          2          2358       1694.602158"
      ]
     },
     "execution_count": 11,
     "metadata": {},
     "output_type": "execute_result"
    }
   ],
   "source": [
    "query = '''SELECT date, store_nbr, transactions, \n",
    "AVG(transactions) OVER ()\n",
    "            as avg_transactions \n",
    "            FROM store_transactions\n",
    "            LIMIT 3'''\n",
    "pd.read_sql(query, conn)"
   ]
  },
  {
   "cell_type": "markdown",
   "id": "fb4e7960-5496-42ce-bc07-0995b5d077e3",
   "metadata": {},
   "source": [
    "So we with our window function, we add the `OVER` keyword.  And we can see that as a result, SQL returns the same average transactions, but it does not reduce the number of rows."
   ]
  },
  {
   "cell_type": "markdown",
   "id": "6380dc74-db9d-451a-bd8c-2fa4c3e2c927",
   "metadata": {},
   "source": [
    "### Reviewing the Syntax"
   ]
  },
  {
   "cell_type": "markdown",
   "id": "53b3e882-9743-4a2f-8af4-ab124e5bfb96",
   "metadata": {},
   "source": [
    "What makes it a window function is the *calculation* (in this case `AVG`) and then the `OVER` keyword. "
   ]
  },
  {
   "cell_type": "markdown",
   "id": "b4bd581b-e4c3-4bbd-88df-72173b75bd8a",
   "metadata": {},
   "source": [
    "```sql\n",
    "SELECT date, store_nbr, transactions, \n",
    "AVG(transactions) OVER ()\n",
    "            as avg_transactions \n",
    "            FROM store_transactions\n",
    "```"
   ]
  },
  {
   "cell_type": "markdown",
   "id": "e0dfa439-db81-4900-ac04-791304367d10",
   "metadata": {},
   "source": [
    "In the parentheses after `OVER`, we define the \"window\".  The window just means the group of rows to consider.\n",
    "\n",
    "In the above query, we do not specify a subset of rows, so SQL calculates the average across *all* of the rows.\n",
    "\n",
    "However, if we change the window to be the `store_nbr` -- the store number -- then this time we will calculate the average number of transactions per store.  Let's see this. "
   ]
  },
  {
   "cell_type": "code",
   "execution_count": 12,
   "id": "926209f6-2b8a-4bbe-9920-0a83c8d50eea",
   "metadata": {},
   "outputs": [
    {
     "data": {
      "text/html": [
       "<div>\n",
       "<style scoped>\n",
       "    .dataframe tbody tr th:only-of-type {\n",
       "        vertical-align: middle;\n",
       "    }\n",
       "\n",
       "    .dataframe tbody tr th {\n",
       "        vertical-align: top;\n",
       "    }\n",
       "\n",
       "    .dataframe thead th {\n",
       "        text-align: right;\n",
       "    }\n",
       "</style>\n",
       "<table border=\"1\" class=\"dataframe\">\n",
       "  <thead>\n",
       "    <tr style=\"text-align: right;\">\n",
       "      <th></th>\n",
       "      <th>date</th>\n",
       "      <th>store_nbr</th>\n",
       "      <th>transactions</th>\n",
       "      <th>avg_by_store</th>\n",
       "    </tr>\n",
       "  </thead>\n",
       "  <tbody>\n",
       "    <tr>\n",
       "      <th>0</th>\n",
       "      <td>2013-01-02</td>\n",
       "      <td>1</td>\n",
       "      <td>2111</td>\n",
       "      <td>1523.844272</td>\n",
       "    </tr>\n",
       "    <tr>\n",
       "      <th>1</th>\n",
       "      <td>2013-01-03</td>\n",
       "      <td>1</td>\n",
       "      <td>1833</td>\n",
       "      <td>1523.844272</td>\n",
       "    </tr>\n",
       "  </tbody>\n",
       "</table>\n",
       "</div>"
      ],
      "text/plain": [
       "         date  store_nbr  transactions  avg_by_store\n",
       "0  2013-01-02          1          2111   1523.844272\n",
       "1  2013-01-03          1          1833   1523.844272"
      ]
     },
     "execution_count": 12,
     "metadata": {},
     "output_type": "execute_result"
    }
   ],
   "source": [
    "query = '''SELECT date, store_nbr, \n",
    "transactions, AVG(transactions) OVER (partition by store_nbr)\n",
    "            as avg_by_store\n",
    "            FROM store_transactions\n",
    "            WHERE store_nbr = 1 \n",
    "            LIMIT 2'''\n",
    "pd.read_sql(query, conn)"
   ]
  },
  {
   "cell_type": "code",
   "execution_count": 13,
   "id": "5efd2f96-8d32-4bc9-a861-e7d529839d32",
   "metadata": {},
   "outputs": [
    {
     "data": {
      "text/html": [
       "<div>\n",
       "<style scoped>\n",
       "    .dataframe tbody tr th:only-of-type {\n",
       "        vertical-align: middle;\n",
       "    }\n",
       "\n",
       "    .dataframe tbody tr th {\n",
       "        vertical-align: top;\n",
       "    }\n",
       "\n",
       "    .dataframe thead th {\n",
       "        text-align: right;\n",
       "    }\n",
       "</style>\n",
       "<table border=\"1\" class=\"dataframe\">\n",
       "  <thead>\n",
       "    <tr style=\"text-align: right;\">\n",
       "      <th></th>\n",
       "      <th>date</th>\n",
       "      <th>store_nbr</th>\n",
       "      <th>transactions</th>\n",
       "      <th>avg_by_store</th>\n",
       "    </tr>\n",
       "  </thead>\n",
       "  <tbody>\n",
       "    <tr>\n",
       "      <th>0</th>\n",
       "      <td>2013-01-02</td>\n",
       "      <td>2</td>\n",
       "      <td>2358</td>\n",
       "      <td>1920.036374</td>\n",
       "    </tr>\n",
       "    <tr>\n",
       "      <th>1</th>\n",
       "      <td>2013-01-03</td>\n",
       "      <td>2</td>\n",
       "      <td>2033</td>\n",
       "      <td>1920.036374</td>\n",
       "    </tr>\n",
       "  </tbody>\n",
       "</table>\n",
       "</div>"
      ],
      "text/plain": [
       "         date  store_nbr  transactions  avg_by_store\n",
       "0  2013-01-02          2          2358   1920.036374\n",
       "1  2013-01-03          2          2033   1920.036374"
      ]
     },
     "execution_count": 13,
     "metadata": {},
     "output_type": "execute_result"
    }
   ],
   "source": [
    "query = '''SELECT date, store_nbr, \n",
    "transactions, AVG(transactions) OVER (partition by store_nbr)\n",
    "            as avg_by_store\n",
    "            FROM store_transactions\n",
    "            WHERE store_nbr = 2 \n",
    "            LIMIT 2'''\n",
    "pd.read_sql(query, conn)"
   ]
  },
  {
   "cell_type": "markdown",
   "id": "f9b07d7e-7196-4c9c-aa90-2b765e5f2cb3",
   "metadata": {},
   "source": [
    "So this time, we can see that we get different averages based on the store.  And to achieve this, we added the phrase `partition by` to our window function. "
   ]
  },
  {
   "cell_type": "markdown",
   "id": "47cd98f9-162f-46e4-8f4c-27549b3c6488",
   "metadata": {},
   "source": [
    "```sql\n",
    "AVG(transactions) OVER (partition by store_nbr)\n",
    "```"
   ]
  },
  {
   "cell_type": "markdown",
   "id": "d437ef0a-7acb-4b79-bf46-8c6cd3d392ce",
   "metadata": {},
   "source": [
    "So as we can see in the last set of parentheses, we specify how we want to partition our rows, here by store number."
   ]
  },
  {
   "cell_type": "markdown",
   "id": "e0c961c1-c500-4486-b4d9-c45d8b640044",
   "metadata": {},
   "source": [
    "> This time try it on your own, defining the window as the date instead of the score number.  Write it without copying the above."
   ]
  },
  {
   "cell_type": "code",
   "execution_count": 27,
   "id": "94e66b5f-db4f-49e5-bbfc-09e404451922",
   "metadata": {},
   "outputs": [
    {
     "data": {
      "text/html": [
       "<div>\n",
       "<style scoped>\n",
       "    .dataframe tbody tr th:only-of-type {\n",
       "        vertical-align: middle;\n",
       "    }\n",
       "\n",
       "    .dataframe tbody tr th {\n",
       "        vertical-align: top;\n",
       "    }\n",
       "\n",
       "    .dataframe thead th {\n",
       "        text-align: right;\n",
       "    }\n",
       "</style>\n",
       "<table border=\"1\" class=\"dataframe\">\n",
       "  <thead>\n",
       "    <tr style=\"text-align: right;\">\n",
       "      <th></th>\n",
       "      <th>date</th>\n",
       "      <th>store_nbr</th>\n",
       "      <th>avg_txns</th>\n",
       "    </tr>\n",
       "  </thead>\n",
       "  <tbody>\n",
       "    <tr>\n",
       "      <th>0</th>\n",
       "      <td>2013-01-02</td>\n",
       "      <td>1</td>\n",
       "      <td>2026.413043</td>\n",
       "    </tr>\n",
       "    <tr>\n",
       "      <th>1</th>\n",
       "      <td>2013-01-02</td>\n",
       "      <td>2</td>\n",
       "      <td>2026.413043</td>\n",
       "    </tr>\n",
       "    <tr>\n",
       "      <th>2</th>\n",
       "      <td>2013-01-02</td>\n",
       "      <td>3</td>\n",
       "      <td>2026.413043</td>\n",
       "    </tr>\n",
       "  </tbody>\n",
       "</table>\n",
       "</div>"
      ],
      "text/plain": [
       "         date  store_nbr     avg_txns\n",
       "0  2013-01-02          1  2026.413043\n",
       "1  2013-01-02          2  2026.413043\n",
       "2  2013-01-02          3  2026.413043"
      ]
     },
     "execution_count": 27,
     "metadata": {},
     "output_type": "execute_result"
    }
   ],
   "source": [
    "query = \"\"\"\n",
    "SELECT * FROM store_transactions             \n",
    "where date = '2013-01-02'\n",
    "order by date\n",
    "LIMIT 3;\n",
    "\"\"\"\n",
    "\n",
    "pd.read_sql(query, conn)\n",
    "\n",
    "# date\tstore_nbr\tavg_txns\n",
    "# 0\t2013-01-02\t1\t2026.413043\n",
    "# 1\t2013-01-02\t2\t2026.413043\n",
    "# 2\t2013-01-02\t3\t2026.413043"
   ]
  },
  {
   "cell_type": "markdown",
   "id": "895c27eb-bac4-433b-abe1-2db9a462884b",
   "metadata": {},
   "source": [
    "### Comparing with Group By"
   ]
  },
  {
   "cell_type": "markdown",
   "id": "91483b5e-17ac-4774-b8c7-4fa68e47284d",
   "metadata": {},
   "source": [
    "Notice how the above differs from using a group by function.  In the above query, the number of rows returned is the same as in the original dataset.  This is why we see the value for `avg_transactions` multiple times.\n",
    "\n",
    "If we use group by, by contrast, we only see one row per grouping.  So moving the above to a group by, we will see only row per date."
   ]
  },
  {
   "cell_type": "code",
   "execution_count": 31,
   "id": "4dce15dc-16ae-40b6-a37b-27da2293ef65",
   "metadata": {},
   "outputs": [
    {
     "data": {
      "text/html": [
       "<div>\n",
       "<style scoped>\n",
       "    .dataframe tbody tr th:only-of-type {\n",
       "        vertical-align: middle;\n",
       "    }\n",
       "\n",
       "    .dataframe tbody tr th {\n",
       "        vertical-align: top;\n",
       "    }\n",
       "\n",
       "    .dataframe thead th {\n",
       "        text-align: right;\n",
       "    }\n",
       "</style>\n",
       "<table border=\"1\" class=\"dataframe\">\n",
       "  <thead>\n",
       "    <tr style=\"text-align: right;\">\n",
       "      <th></th>\n",
       "      <th>date</th>\n",
       "      <th>avg_transactions</th>\n",
       "    </tr>\n",
       "  </thead>\n",
       "  <tbody>\n",
       "    <tr>\n",
       "      <th>0</th>\n",
       "      <td>2013-01-01</td>\n",
       "      <td>770.000000</td>\n",
       "    </tr>\n",
       "    <tr>\n",
       "      <th>1</th>\n",
       "      <td>2013-01-02</td>\n",
       "      <td>2026.413043</td>\n",
       "    </tr>\n",
       "    <tr>\n",
       "      <th>2</th>\n",
       "      <td>2013-01-03</td>\n",
       "      <td>1706.608696</td>\n",
       "    </tr>\n",
       "  </tbody>\n",
       "</table>\n",
       "</div>"
      ],
      "text/plain": [
       "         date  avg_transactions\n",
       "0  2013-01-01        770.000000\n",
       "1  2013-01-02       2026.413043\n",
       "2  2013-01-03       1706.608696"
      ]
     },
     "execution_count": 31,
     "metadata": {},
     "output_type": "execute_result"
    }
   ],
   "source": [
    "query = \"\"\"\n",
    "SELECT date, AVG(transactions) as avg_transactions\n",
    "FROM store_transactions             \n",
    "group by date\n",
    "order by date\n",
    "LIMIT 3;\n",
    "\"\"\"\n",
    "\n",
    "pd.read_sql(query, conn)"
   ]
  },
  {
   "cell_type": "markdown",
   "id": "d212ebd3-e055-47dc-8439-69a20c1ef012",
   "metadata": {},
   "source": [
    "### Summary"
   ]
  },
  {
   "cell_type": "markdown",
   "id": "b8f62217-10bc-44cc-8c23-e17d96e30551",
   "metadata": {},
   "source": [
    "In this lesson, we saw how window functions allow us to perform calculations within a specified window.  Unlike our aggregate functions, window functions do not reduce the number of rows that are returned.  This can make them useful for comparing a specific row against the calculated value in that window -- like deviation from the average.\n",
    "\n",
    "We saw that we create a window function with the `OVER` keyword, and that in the parentheses after the OVER, the window is specified.  If we leave it blank, the window is all of the queried rows.\n",
    "\n",
    "```sql\n",
    "SELECT date, store_nbr, transactions, \n",
    "AVG(transactions) OVER ()\n",
    "            as avg_transactions \n",
    "            FROM store_transactions\n",
    "```\n",
    "\n",
    "Or we can partition our dataset into different windows by a specified criteria.\n",
    "\n",
    "```sql\n",
    "SELECT date, store_nbr, \n",
    "transactions, AVG(transactions) OVER (partition by store_nbr)\n",
    "            as avg_by_store\n",
    "FROM store_transaction\n",
    "```"
   ]
  },
  {
   "cell_type": "markdown",
   "id": "df57e56d-d841-4076-9811-3640aad46a22",
   "metadata": {},
   "source": [
    "### Answers"
   ]
  },
  {
   "cell_type": "code",
   "execution_count": 28,
   "id": "dacc46c3-c64d-4112-9f69-69a38c94cc43",
   "metadata": {},
   "outputs": [],
   "source": [
    "query = \"\"\"\n",
    "SELECT date, store_nbr, AVG(transactions) OVER (partition by date) as avg_txns \n",
    "FROM store_transactions             \n",
    "where date = '2013-01-02'\n",
    "order by date\n",
    "LIMIT 3;\n",
    "\"\"\""
   ]
  },
  {
   "cell_type": "markdown",
   "id": "15dacbb6-f79e-4edd-86ad-d8a83cb6017f",
   "metadata": {
    "tags": []
   },
   "source": [
    "### Resources\n",
    "\n",
    "[Snowflake Window Functions](https://docs.snowflake.com/en/user-guide/functions-window-using.html)\n",
    "\n",
    "[Data School Window Functions](https://dataschool.com/how-to-teach-people-sql/how-window-functions-work/)\n",
    "\n",
    "[Kaggle Analytic Window Functions](https://www.kaggle.com/alexisbcook/analytic-functions)\n",
    "\n",
    "[StrataScratch Window Functions](https://www.stratascratch.com/blog/types-of-window-functions-in-sql-and-questions-asked-by-airbnb-netflix-twitter-and-uber/)"
   ]
  },
  {
   "cell_type": "markdown",
   "id": "b1a65649-8e83-490d-80e7-8a40af66c64c",
   "metadata": {},
   "source": [
    "[Instacard Data](https://www.kaggle.com/c/instacart-market-basket-analysis/data)"
   ]
  },
  {
   "cell_type": "markdown",
   "id": "02bad3e5-ab40-4ff1-beed-3f1c65618066",
   "metadata": {},
   "source": [
    "[Chartio Window Functions](https://chartio.com/resources/tutorials/using-window-functions/)"
   ]
  }
 ],
 "metadata": {
  "kernelspec": {
   "display_name": "Python 3 (ipykernel)",
   "language": "python",
   "name": "python3"
  },
  "language_info": {
   "codemirror_mode": {
    "name": "ipython",
    "version": 3
   },
   "file_extension": ".py",
   "mimetype": "text/x-python",
   "name": "python",
   "nbconvert_exporter": "python",
   "pygments_lexer": "ipython3",
   "version": "3.9.10"
  }
 },
 "nbformat": 4,
 "nbformat_minor": 5
}
