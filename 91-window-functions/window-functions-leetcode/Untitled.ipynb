{
 "cells": [
  {
   "cell_type": "code",
   "execution_count": 2,
   "id": "22b49ec8-38ec-4889-babb-33d2d38d42f2",
   "metadata": {},
   "outputs": [],
   "source": [
    "\n",
    "import requests\n",
    "url = \"http://api.spacetraders.io/users/jeffkatzy/claim\"\n",
    "\n",
    "response = requests.post(url)"
   ]
  },
  {
   "cell_type": "code",
   "execution_count": 3,
   "id": "15ee6b17-1b00-4ac6-ae04-ab6e958c9f19",
   "metadata": {},
   "outputs": [
    {
     "data": {
      "text/plain": [
       "{'error': {'message': 'Token was invalid or missing from the request. Did you confirm sending the token as a query parameter or authorization header?',\n",
       "  'code': 40101}}"
      ]
     },
     "execution_count": 3,
     "metadata": {},
     "output_type": "execute_result"
    }
   ],
   "source": [
    "response.json()"
   ]
  },
  {
   "cell_type": "code",
   "execution_count": null,
   "id": "75a46323-8248-419f-85b7-38ec69a1fc31",
   "metadata": {},
   "outputs": [],
   "source": []
  }
 ],
 "metadata": {
  "kernelspec": {
   "display_name": "Python 3 (ipykernel)",
   "language": "python",
   "name": "python3"
  },
  "language_info": {
   "codemirror_mode": {
    "name": "ipython",
    "version": 3
   },
   "file_extension": ".py",
   "mimetype": "text/x-python",
   "name": "python",
   "nbconvert_exporter": "python",
   "pygments_lexer": "ipython3",
   "version": "3.9.10"
  }
 },
 "nbformat": 4,
 "nbformat_minor": 5
}
