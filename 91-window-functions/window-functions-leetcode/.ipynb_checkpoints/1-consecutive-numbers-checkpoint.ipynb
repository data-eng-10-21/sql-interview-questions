{
 "cells": [
  {
   "cell_type": "code",
   "execution_count": null,
   "id": "f7b13894-763d-4445-b8ce-303117363591",
   "metadata": {},
   "outputs": [],
   "source": []
  },
  {
   "cell_type": "markdown",
   "id": "cbed8084-f8f2-4ef7-9efd-e21ec4e03bf4",
   "metadata": {},
   "source": [
    "```sql \n",
    "\n",
    "SELECT distinct num ConsecutiveNums\n",
    "FROM\n",
    "(SELECT id, num,\n",
    "lag(num) over (order by id) as before,\n",
    "lead(num) over (order by id) as after\n",
    "\n",
    "FROM logs) next_prev\n",
    "WHERE num=before and before =after\n",
    "```"
   ]
  },
  {
   "cell_type": "markdown",
   "id": "c99602d7-1954-42ee-80e9-368bb573ff3c",
   "metadata": {},
   "source": [
    "### Resources\n",
    "\n",
    "[Window Functions Primer](https://leetcode.com/discuss/study-guide/1600719/database-sql-primer-part-2-window-functions)"
   ]
  },
  {
   "cell_type": "code",
   "execution_count": null,
   "id": "3eff054a-14eb-4b8e-8234-b216f3339922",
   "metadata": {},
   "outputs": [],
   "source": []
  }
 ],
 "metadata": {
  "kernelspec": {
   "display_name": "Python 3 (ipykernel)",
   "language": "python",
   "name": "python3"
  },
  "language_info": {
   "codemirror_mode": {
    "name": "ipython",
    "version": 3
   },
   "file_extension": ".py",
   "mimetype": "text/x-python",
   "name": "python",
   "nbconvert_exporter": "python",
   "pygments_lexer": "ipython3",
   "version": "3.9.10"
  }
 },
 "nbformat": 4,
 "nbformat_minor": 5
}
