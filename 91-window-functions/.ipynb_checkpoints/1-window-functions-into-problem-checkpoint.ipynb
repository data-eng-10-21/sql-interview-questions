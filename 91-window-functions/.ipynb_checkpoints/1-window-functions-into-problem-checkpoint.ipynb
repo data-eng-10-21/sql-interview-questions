{
 "cells": [
  {
   "cell_type": "markdown",
   "id": "4f93fee4-5140-4790-a4d7-ddd8be6fb644",
   "metadata": {},
   "source": [
    "# Window Functions"
   ]
  },
  {
   "cell_type": "markdown",
   "id": "800713d0-c2cc-4825-a189-5949e10dd499",
   "metadata": {},
   "source": [
    "### Introduction"
   ]
  },
  {
   "cell_type": "markdown",
   "id": "104152c0-fb75-41b4-9393-35d042164558",
   "metadata": {},
   "source": [
    "In this section, let's review the material on window functions."
   ]
  },
  {
   "cell_type": "code",
   "execution_count": null,
   "id": "4be115d4-395c-4195-89d9-b5043c204222",
   "metadata": {},
   "outputs": [],
   "source": [
    "### "
   ]
  },
  {
   "cell_type": "code",
   "execution_count": 8,
   "id": "464b983a-d189-43e2-90e9-ac89a9879270",
   "metadata": {},
   "outputs": [],
   "source": [
    "scores = {\"headers\": [\"id\", \"score\"], \"values\": [[1, 3.50], [2, 3.65], [3, 4.00], [4, 3.85], [5, 4.00], [6, 3.65]]}"
   ]
  },
  {
   "cell_type": "code",
   "execution_count": 9,
   "id": "37736e1e-1952-4e04-9ca9-5c9cef0be6de",
   "metadata": {},
   "outputs": [],
   "source": [
    "import pandas as pd\n",
    "def build_dataframe(data):\n",
    "    columns = data['headers']\n",
    "    values = data['values']\n",
    "    df = pd.DataFrame(values)\n",
    "    df.columns = columns\n",
    "    return df"
   ]
  },
  {
   "cell_type": "code",
   "execution_count": 10,
   "id": "967f14b5-07ec-47f5-a25e-3e1433723cfa",
   "metadata": {},
   "outputs": [],
   "source": [
    "import sqlite3\n",
    "\n",
    "conn = sqlite3.connect('crm.db')"
   ]
  },
  {
   "cell_type": "code",
   "execution_count": 11,
   "id": "eb506de6-0bda-479a-866e-1a7cf4424ce6",
   "metadata": {},
   "outputs": [],
   "source": [
    "orders_df = build_dataframe(scores)"
   ]
  },
  {
   "cell_type": "code",
   "execution_count": 12,
   "id": "b9dd77ec-2c5c-4572-82f7-ca89955366a1",
   "metadata": {},
   "outputs": [
    {
     "data": {
      "text/plain": [
       "6"
      ]
     },
     "execution_count": 12,
     "metadata": {},
     "output_type": "execute_result"
    }
   ],
   "source": [
    "orders_df.to_sql('scores', conn, if_exists = 'replace', index = False)"
   ]
  },
  {
   "cell_type": "code",
   "execution_count": 13,
   "id": "afb05c4f-1414-4368-aa5b-33079269ad0e",
   "metadata": {},
   "outputs": [
    {
     "data": {
      "text/html": [
       "<div>\n",
       "<style scoped>\n",
       "    .dataframe tbody tr th:only-of-type {\n",
       "        vertical-align: middle;\n",
       "    }\n",
       "\n",
       "    .dataframe tbody tr th {\n",
       "        vertical-align: top;\n",
       "    }\n",
       "\n",
       "    .dataframe thead th {\n",
       "        text-align: right;\n",
       "    }\n",
       "</style>\n",
       "<table border=\"1\" class=\"dataframe\">\n",
       "  <thead>\n",
       "    <tr style=\"text-align: right;\">\n",
       "      <th></th>\n",
       "      <th>id</th>\n",
       "      <th>score</th>\n",
       "    </tr>\n",
       "  </thead>\n",
       "  <tbody>\n",
       "    <tr>\n",
       "      <th>0</th>\n",
       "      <td>1</td>\n",
       "      <td>3.50</td>\n",
       "    </tr>\n",
       "    <tr>\n",
       "      <th>1</th>\n",
       "      <td>2</td>\n",
       "      <td>3.65</td>\n",
       "    </tr>\n",
       "    <tr>\n",
       "      <th>2</th>\n",
       "      <td>3</td>\n",
       "      <td>4.00</td>\n",
       "    </tr>\n",
       "    <tr>\n",
       "      <th>3</th>\n",
       "      <td>4</td>\n",
       "      <td>3.85</td>\n",
       "    </tr>\n",
       "    <tr>\n",
       "      <th>4</th>\n",
       "      <td>5</td>\n",
       "      <td>4.00</td>\n",
       "    </tr>\n",
       "    <tr>\n",
       "      <th>5</th>\n",
       "      <td>6</td>\n",
       "      <td>3.65</td>\n",
       "    </tr>\n",
       "  </tbody>\n",
       "</table>\n",
       "</div>"
      ],
      "text/plain": [
       "   id  score\n",
       "0   1   3.50\n",
       "1   2   3.65\n",
       "2   3   4.00\n",
       "3   4   3.85\n",
       "4   5   4.00\n",
       "5   6   3.65"
      ]
     },
     "execution_count": 13,
     "metadata": {},
     "output_type": "execute_result"
    }
   ],
   "source": [
    "pd.read_sql('select * from scores', conn)"
   ]
  },
  {
   "cell_type": "markdown",
   "id": "93b30eec-85ba-4c61-bbaa-14623172833c",
   "metadata": {},
   "source": [
    "### Problem"
   ]
  },
  {
   "cell_type": "markdown",
   "id": "7b35cbd4-68da-4d92-add0-945f7fc3ce05",
   "metadata": {},
   "source": [
    "Write an SQL query to rank the scores. The ranking should be calculated according to the following rules:\n",
    "\n",
    "* The scores should be ranked from the highest to the lowest.\n",
    "* If there is a tie between two scores, both should have the same ranking.\n",
    "* After a tie, the next ranking number should be the next consecutive integer value. In other words, there should be no holes between ranks."
   ]
  },
  {
   "cell_type": "code",
   "execution_count": 14,
   "id": "220ca1f5-c150-4427-a8ee-2880124442d4",
   "metadata": {},
   "outputs": [
    {
     "data": {
      "text/html": [
       "<div>\n",
       "<style scoped>\n",
       "    .dataframe tbody tr th:only-of-type {\n",
       "        vertical-align: middle;\n",
       "    }\n",
       "\n",
       "    .dataframe tbody tr th {\n",
       "        vertical-align: top;\n",
       "    }\n",
       "\n",
       "    .dataframe thead th {\n",
       "        text-align: right;\n",
       "    }\n",
       "</style>\n",
       "<table border=\"1\" class=\"dataframe\">\n",
       "  <thead>\n",
       "    <tr style=\"text-align: right;\">\n",
       "      <th></th>\n",
       "      <th>id</th>\n",
       "      <th>score</th>\n",
       "    </tr>\n",
       "  </thead>\n",
       "  <tbody>\n",
       "    <tr>\n",
       "      <th>0</th>\n",
       "      <td>1</td>\n",
       "      <td>3.50</td>\n",
       "    </tr>\n",
       "    <tr>\n",
       "      <th>1</th>\n",
       "      <td>2</td>\n",
       "      <td>3.65</td>\n",
       "    </tr>\n",
       "    <tr>\n",
       "      <th>2</th>\n",
       "      <td>3</td>\n",
       "      <td>4.00</td>\n",
       "    </tr>\n",
       "    <tr>\n",
       "      <th>3</th>\n",
       "      <td>4</td>\n",
       "      <td>3.85</td>\n",
       "    </tr>\n",
       "    <tr>\n",
       "      <th>4</th>\n",
       "      <td>5</td>\n",
       "      <td>4.00</td>\n",
       "    </tr>\n",
       "    <tr>\n",
       "      <th>5</th>\n",
       "      <td>6</td>\n",
       "      <td>3.65</td>\n",
       "    </tr>\n",
       "  </tbody>\n",
       "</table>\n",
       "</div>"
      ],
      "text/plain": [
       "   id  score\n",
       "0   1   3.50\n",
       "1   2   3.65\n",
       "2   3   4.00\n",
       "3   4   3.85\n",
       "4   5   4.00\n",
       "5   6   3.65"
      ]
     },
     "execution_count": 14,
     "metadata": {},
     "output_type": "execute_result"
    }
   ],
   "source": [
    "pd.read_sql('select * from scores', conn)"
   ]
  }
 ],
 "metadata": {
  "kernelspec": {
   "display_name": "Python 3 (ipykernel)",
   "language": "python",
   "name": "python3"
  },
  "language_info": {
   "codemirror_mode": {
    "name": "ipython",
    "version": 3
   },
   "file_extension": ".py",
   "mimetype": "text/x-python",
   "name": "python",
   "nbconvert_exporter": "python",
   "pygments_lexer": "ipython3",
   "version": "3.9.10"
  }
 },
 "nbformat": 4,
 "nbformat_minor": 5
}
