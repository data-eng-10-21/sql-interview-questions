{
 "cells": [
  {
   "cell_type": "markdown",
   "id": "d461c57b-a05c-40ee-a33e-1e5a02e1009f",
   "metadata": {},
   "source": [
    "# Subquery as Table"
   ]
  },
  {
   "cell_type": "markdown",
   "id": "9a61b4e5-8463-4d1e-bd4f-0c7c7d6d91b2",
   "metadata": {},
   "source": [
    "### Introduction"
   ]
  },
  {
   "cell_type": "markdown",
   "id": "3ca396d8-7a8a-456f-b0b0-f19c34059f15",
   "metadata": {},
   "source": [
    "In the previous lessons, we used subqueries in the WHERE clause, and saw how our subquery can return either a single entry or a vector.  In this lesson, we'll see how we can use our subquery to return an entire table."
   ]
  },
  {
   "cell_type": "markdown",
   "id": "19b5535f-4954-4279-b528-f4f7cda19255",
   "metadata": {},
   "source": [
    "### Subqueries for Aggregates"
   ]
  },
  {
   "cell_type": "markdown",
   "id": "975c9e3c-1958-487e-a4f9-8905bc39a05d",
   "metadata": {},
   "source": [
    "One use case for subqueries is to change the dimension of our data."
   ]
  },
  {
   "cell_type": "markdown",
   "id": "6aec5916-130c-466b-b670-c9d760fffc82",
   "metadata": {},
   "source": [
    "### Resources\n"
   ]
  },
  {
   "cell_type": "markdown",
   "id": "e6083dee-573e-466b-af12-1c91f19d4679",
   "metadata": {},
   "source": [
    "[Customer largest orders](https://leetcode.com/problems/customer-placing-the-largest-number-of-orders/)"
   ]
  },
  {
   "cell_type": "markdown",
   "id": "7c0e7eda-bffa-404b-8feb-a37b9ee140a7",
   "metadata": {},
   "source": [
    "* Mobile web cross users"
   ]
  },
  {
   "cell_type": "code",
   "execution_count": null,
   "id": "8a7945fd-46a6-4032-b8b9-6b4ee9e60b69",
   "metadata": {},
   "outputs": [],
   "source": []
  }
 ],
 "metadata": {
  "kernelspec": {
   "display_name": "Python 3 (ipykernel)",
   "language": "python",
   "name": "python3"
  },
  "language_info": {
   "codemirror_mode": {
    "name": "ipython",
    "version": 3
   },
   "file_extension": ".py",
   "mimetype": "text/x-python",
   "name": "python",
   "nbconvert_exporter": "python",
   "pygments_lexer": "ipython3",
   "version": "3.9.10"
  }
 },
 "nbformat": 4,
 "nbformat_minor": 5
}
