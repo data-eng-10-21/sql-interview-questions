{
 "cells": [
  {
   "cell_type": "markdown",
   "id": "c20c1c44-d4b8-4c0f-8273-9683ca56c9e6",
   "metadata": {},
   "source": [
    "# Belongs to Practice"
   ]
  },
  {
   "cell_type": "markdown",
   "id": "8adfb6de-3c92-40fa-8b82-41d53f92bdd0",
   "metadata": {},
   "source": [
    "### Toy Store"
   ]
  },
  {
   "cell_type": "markdown",
   "id": "0c0adf30-524b-419b-92e1-ac033aa54f45",
   "metadata": {},
   "source": [
    "Now let's imagine that we run a toy store.  We want to keep track of all of the kinds of toys that we sell.  We have the following tables below.  \n",
    "\n",
    "Add in foreign keys to connect so that each toy has a single age group, and that is associated with a single brand."
   ]
  },
  {
   "cell_type": "markdown",
   "id": "28ad8816-e5d4-4785-834e-ac584f6ae001",
   "metadata": {},
   "source": [
    "```sql\n",
    "create table toys (\n",
    "id INTEGER primary key,\n",
    "name TEXT\n",
    ");\n",
    "\n",
    "create table age_groups (\n",
    "id INTEGER primary key,\n",
    "minimum_age INTEGER,\n",
    "maximum_age INTEGER\n",
    ");\n",
    "\n",
    "create table brands (\n",
    "id INTEGER primary key,\n",
    "name TEXT\n",
    ");\n",
    "\n",
    "insert into toys (name) VALUES\n",
    "('tricycle'),\n",
    "('bicycle'), \n",
    "('ironman action figure'), \n",
    "('paw patrol dog'),\n",
    "('rainbow unicorn'),\n",
    "('playdoh'),\n",
    "('jump rope');\n",
    "\n",
    "insert into brands (name) VALUES\n",
    "('huffy'), \n",
    "('marvel'), \n",
    "('mattel'),\n",
    "('playco');\n",
    "\n",
    "insert into age_groups (minimum_age, maximum_age) VALUES\n",
    "(1, 3), \n",
    "(3, 5), \n",
    "(5, 7),\n",
    "(8, 11);\n",
    "\n",
    "select * from age_groups;\n",
    "select * from toys;\n",
    "select * from brands;\n",
    "```"
   ]
  },
  {
   "cell_type": "markdown",
   "id": "39dcfdc2-3af7-4293-a925-250d3db34f16",
   "metadata": {},
   "source": [
    "* Write a query to find all of the toys made by mattel\n",
    "* Then find the minimim age of the tricycle\n",
    "* Find all of the toys in the first age group (for those three or younger)\n",
    "* Find the age group associated with the jump rope"
   ]
  },
  {
   "cell_type": "markdown",
   "id": "bec85e0d-9555-4a51-9683-3a144866f879",
   "metadata": {},
   "source": [
    "### Modeling Longform Articles"
   ]
  },
  {
   "cell_type": "markdown",
   "id": "1fd0c6df-428f-4405-82fe-b9782ece3ae6",
   "metadata": {},
   "source": [
    "Longform is a website that collects some of the best journalism articles (or at least it used to until 2021).  Take a look at the [best of 2021](https://longform.org/lists/best-of-2021) list here.\n",
    "\n",
    "Here, we want to model those articles.\n",
    "\n",
    "Begin by inserting the foreign keys in the tables and the related data."
   ]
  },
  {
   "cell_type": "markdown",
   "id": "3b1a3f8b-140c-4697-a0aa-71520ecffca4",
   "metadata": {},
   "source": [
    "```sql\n",
    "create table articles (\n",
    "id INTEGER primary key,\n",
    "name TEXT\n",
    ");\n",
    "\n",
    "create table authors (\n",
    "id INTEGER primary key,\n",
    "name TEXT\n",
    ");\n",
    "\n",
    "create table publications (\n",
    "id INTEGER primary key,\n",
    "name TEXT\n",
    ");\n",
    "\n",
    "insert into authors (name) VALUES \n",
    "('The Atlantic'),\n",
    "('The New Yorker'),\n",
    "('New York Times Magazine'),\n",
    "('Elle');\n",
    "\n",
    "insert into authors (name) VALUES \n",
    "('Stephanie Clifford'),\n",
    "('Robert Kolker'),\n",
    "('Jazmine Hughes'),\n",
    "('Michael Schulman'),\n",
    "('Anand Gopal'),\n",
    "('Jennifer Senior');\n",
    "\n",
    "select * from authors;\n",
    "\n",
    "\n",
    "insert into articles (name) VALUES\n",
    "('On Succession, Jeremy Strong...'), \n",
    "('What Bobby McIlvaine Left Behind'), \n",
    "('The Other Afghan Women'),\n",
    "(\"The Subversive Joy of Lil Nas X's Gay Pop Stardom\"),\n",
    "(\"Who Is the Bad Art Friend?\"),\n",
    "(\"The Journalist and the Pharma Bro\");\n",
    "\n",
    "select * from articles;\n",
    "```"
   ]
  },
  {
   "cell_type": "markdown",
   "id": "67665690-b535-4514-a78e-1735219d3dbb",
   "metadata": {},
   "source": [
    "Then write queries to answer the following questions."
   ]
  },
  {
   "cell_type": "markdown",
   "id": "3b58b237-e7b8-4998-a2a6-1cbec64c74e8",
   "metadata": {},
   "source": [
    "* What is the name of the publication that wrote `\"The Journalist and the Pharma Bro\"`.\n",
    "* Return the names of all of the articles written by `\"The New Yorker\"`.\n",
    "* Return the number of articles written by the `\"The New York Times Magazine\"`"
   ]
  }
 ],
 "metadata": {
  "kernelspec": {
   "display_name": "Python 3 (ipykernel)",
   "language": "python",
   "name": "python3"
  },
  "language_info": {
   "codemirror_mode": {
    "name": "ipython",
    "version": 3
   },
   "file_extension": ".py",
   "mimetype": "text/x-python",
   "name": "python",
   "nbconvert_exporter": "python",
   "pygments_lexer": "ipython3",
   "version": "3.9.10"
  }
 },
 "nbformat": 4,
 "nbformat_minor": 5
}
