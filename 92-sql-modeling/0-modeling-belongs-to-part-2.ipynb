{
 "cells": [
  {
   "cell_type": "markdown",
   "id": "01b074bf-950c-4a42-82bb-a281a89d4ba7",
   "metadata": {},
   "source": [
    "# Modeling Belongs To"
   ]
  },
  {
   "cell_type": "markdown",
   "id": "fae69b0c-8bcc-46c9-9ba3-12d9b2d0c639",
   "metadata": {},
   "source": [
    "### Introduction"
   ]
  },
  {
   "cell_type": "markdown",
   "id": "887fb699-b638-4e58-885b-2ff6e6cb18cd",
   "metadata": {},
   "source": [
    "In this lesson, we'll continue to practice working with our belongs to relationships.  We'll provide the tables, and some initial data.  But it will be your job to add the foreign keys, as well as the data related to the foreign keys.\n",
    "\n",
    "Use the [khan academy SQL project](https://www.khanacademy.org/computing/computer-programming/sql/relational-queries-in-sql/pp/project-famous-people) as a place to add the tables and data."
   ]
  },
  {
   "cell_type": "markdown",
   "id": "14463101-7cf5-4da5-9f78-616b07837d53",
   "metadata": {},
   "source": [
    "### Artists, Songs and Genres"
   ]
  },
  {
   "cell_type": "markdown",
   "id": "0a5d1144-ab69-480a-b0cd-40debb248ffb",
   "metadata": {},
   "source": [
    "Let's start by modeling bands, songs and genres.  We'll say that an band has many songs, and that each song has only one genre.  \n",
    "\n",
    "```sql\n",
    "create table bands (\n",
    "id INTEGER PRIMARY KEY AUTOINCREMENT,\n",
    "name TEXT\n",
    ");\n",
    "\n",
    "create table songs (\n",
    "id INTEGER PRIMARY KEY AUTOINCREMENT,\n",
    "name TEXT\n",
    ");\n",
    "\n",
    "create table genres (\n",
    "id INTEGER PRIMARY KEY AUTOINCREMENT,\n",
    "name TEXT\n",
    ");\n",
    "\n",
    "INSERT INTO songs (name) VALUES\n",
    "('Get Back'),\n",
    "('Hold Your Hand'),\n",
    "('Naive');\n",
    "\n",
    "INSERT INTO bands (name) VALUES\n",
    "('The Beatles'),\n",
    "('The Kooks');\n",
    "\n",
    "\n",
    "INSERT INTO genres (name) VALUES\n",
    "('Rock'),\n",
    "('Indie'),\n",
    "('Pop');\n",
    "\n",
    "select * from bands;\n",
    "select * from genres;\n",
    "```\n",
    "\n",
    "1. Add in the foreign keys needed to relate songs, genres, and bands tables.  \n",
    "\n",
    "2. Then write a query to find all of the songs `The Beatles`.\n",
    "\n",
    "3. Finally, write a query to find all of the genres of The Beatles.\n",
    "\n",
    "4. Now what if in addition to bands we also have musicians, and each musician only has one band.  Add the musicians table, and make any needed changes to the rest of the tables.\n",
    "\n",
    "\n",
    "```sql\n",
    "create table musicians (\n",
    "id INTEGER PRIMARY KEY AUTOINCREMENT,\n",
    "name TEXT\n",
    ");\n",
    "\n",
    "INSERT INTO musicians (name) VALUES\n",
    "('Luke Pritchard'),\n",
    "('John Lennon'),\n",
    "('George Harrison'),\n",
    "('Paul McCartney');\n",
    "\n",
    "select * from musicians;\n",
    "```\n",
    "\n",
    "5. Find all of the generes of a musician - say `John Lennon`."
   ]
  },
  {
   "cell_type": "markdown",
   "id": "ced67ff6-dd53-48ea-9316-298a2ac8e228",
   "metadata": {
    "tags": []
   },
   "source": [
    "### Teams and Players"
   ]
  },
  {
   "cell_type": "markdown",
   "id": "c103990d-1408-434b-856f-34e8fe554fdb",
   "metadata": {},
   "source": [
    "Let's say that we want to keep track of the teams that different professional basketball players are on.  We'll start with two tables. \n",
    "\n",
    "Add the related foreign keys."
   ]
  },
  {
   "cell_type": "markdown",
   "id": "5c1ad467-8e8e-4220-b76d-2a73c7d779e2",
   "metadata": {},
   "source": [
    "```sql\n",
    "create table players (\n",
    "id INTEGER PRIMARY KEY AUTOINCREMENT,\n",
    "name TEXT\n",
    ");\n",
    "\n",
    "create table teams (\n",
    "id INTEGER PRIMARY KEY AUTOINCREMENT,\n",
    "name TEXT\n",
    ");\n",
    "\n",
    "INSERT INTO players (name) VALUES\n",
    "('Joel Embiid'), \n",
    "('Scottie Barnes'), \n",
    "('James Harden'), \n",
    "('Chris Boucher'), \n",
    "('Paskal Siakam');\n",
    "\n",
    "INSERT INTO teams (name) VALUES\n",
    "('Toronto Raptors'), \n",
    "('Philadelphia 76ers'); \n",
    "```"
   ]
  },
  {
   "cell_type": "markdown",
   "id": "ecffa21a-bf86-46a3-8c95-01109f4e51e4",
   "metadata": {},
   "source": [
    "* Then write out the query to find the players on any NBA team - say the `'Toronto Raptors'`.\n",
    "\n",
    "* And find the name of the team that James Harden is on.\n",
    "\n",
    "* Now let's add a table called countries, and structure the tables so we can associate players with the country they were born in."
   ]
  },
  {
   "cell_type": "markdown",
   "id": "f989c2a6-50ef-461b-96d6-f50ce0fe5322",
   "metadata": {},
   "source": [
    "```sql\n",
    "create table countries (\n",
    "id INTEGER PRIMARY KEY AUTOINCREMENT,\n",
    "name TEXT\n",
    ");\n",
    "\n",
    "INSERT INTO countries (name) VALUES\n",
    "('USA'), \n",
    "('Cameroon'), \n",
    "('Canada');\n",
    "\n",
    "select * from countries;\n",
    "```"
   ]
  },
  {
   "cell_type": "markdown",
   "id": "3f57fb69-7b1d-4525-8580-4521150fdf75",
   "metadata": {},
   "source": [
    "* After filling the associations, write a query to find all of the  players born in the USA.  \n",
    "* Then write a query to display all of the countries of players on the 76ers."
   ]
  },
  {
   "cell_type": "markdown",
   "id": "f11f9058-a67a-490d-8016-cfc04d861ca9",
   "metadata": {},
   "source": [
    "### Teachers and Subjects\n",
    "\n",
    "* Let's say that we want to model teachers in a high school.  Each teacher is only associated with one department, and a teacher only teaches one subject.  A given subject is taught by multiple teachers.\n",
    "\n",
    "```sql\n",
    "create table teachers (\n",
    "id INTEGER PRIMARY KEY AUTOINCREMENT,\n",
    "name TEXT\n",
    ");\n",
    "\n",
    "create table departments (\n",
    "id INTEGER PRIMARY KEY AUTOINCREMENT,\n",
    "name TEXT\n",
    ");\n",
    "\n",
    "create table subjects (\n",
    "id INTEGER PRIMARY KEY AUTOINCREMENT,\n",
    "name TEXT\n",
    ");\n",
    "\n",
    "INSERT INTO teachers (name) VALUES\n",
    "('Ms. Frizzle'), \n",
    "('Jack Black'), \n",
    "('Einstein'), \n",
    "('Darwin'),\n",
    "('Mr. Holland');\n",
    "\n",
    "INSERT INTO departments (name) VALUES\n",
    "('Music'), \n",
    "('Science');\n",
    "\n",
    "INSERT INTO subjects (name) VALUES\n",
    "('Biology'), \n",
    "('Classical Music'),\n",
    "('Physics'),\n",
    "('Rock Music');\n",
    "```\n",
    "\n",
    "\n",
    "* Write out the associated queries to find all of the teachers in a department (say the Music department), and to find the name of department of a teacher - say Einstein.  \n",
    "\n",
    "* Then write a query to find all of the subjects taught by the Biology department.\n",
    "\n",
    "* Write a query to find the name of the subject taught by `Ms. Frizzle`\n",
    "\n",
    "* Find the name of the department of `Ms. Frizzle`.\n",
    "\n",
    "* Find the names of all teachers in the music department."
   ]
  }
 ],
 "metadata": {
  "kernelspec": {
   "display_name": "Python 3 (ipykernel)",
   "language": "python",
   "name": "python3"
  },
  "language_info": {
   "codemirror_mode": {
    "name": "ipython",
    "version": 3
   },
   "file_extension": ".py",
   "mimetype": "text/x-python",
   "name": "python",
   "nbconvert_exporter": "python",
   "pygments_lexer": "ipython3",
   "version": "3.9.10"
  }
 },
 "nbformat": 4,
 "nbformat_minor": 5
}
