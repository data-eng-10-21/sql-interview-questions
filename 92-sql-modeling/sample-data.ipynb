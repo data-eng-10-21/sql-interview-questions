{
 "cells": [
  {
   "cell_type": "code",
   "execution_count": null,
   "id": "b25eca36-c7bd-413b-84a7-d9525dc2ebf0",
   "metadata": {},
   "outputs": [],
   "source": []
  },
  {
   "cell_type": "code",
   "execution_count": 1,
   "id": "84b7033f-2db2-4904-8165-1916b9198494",
   "metadata": {},
   "outputs": [
    {
     "data": {
      "text/plain": [
       "{'id': '51eabef6498e10cf3aea7942',\n",
       " 'name': 'Brooklyn Bridge Park - Pier 2',\n",
       " 'location': {'address': 'Furman St',\n",
       "  'crossStreet': 'Brooklyn Bridge Park Greenway',\n",
       "  'lat': 40.69957016220183,\n",
       "  'lng': -73.99793274204788,\n",
       "  'labeledLatLngs': [{'label': 'display',\n",
       "    'lat': 40.69957016220183,\n",
       "    'lng': -73.99793274204788}],\n",
       "  'distance': 180,\n",
       "  'postalCode': '11201',\n",
       "  'cc': 'US',\n",
       "  'city': 'Brooklyn',\n",
       "  'state': 'NY',\n",
       "  'country': 'United States',\n",
       "  'formattedAddress': ['Furman St (Brooklyn Bridge Park Greenway)',\n",
       "   'Brooklyn, NY 11201',\n",
       "   'United States']},\n",
       " 'categories': [{'id': '4e74f6cabd41c4836eac4c31',\n",
       "   'name': 'Pier',\n",
       "   'pluralName': 'Piers',\n",
       "   'shortName': 'Piers',\n",
       "   'icon': {'prefix': 'https://ss3.4sqi.net/img/categories_v2/travel/ferry_pier_',\n",
       "    'suffix': '.png'},\n",
       "   'primary': True}],\n",
       " 'referralId': 'v-1657284097',\n",
       " 'hasPerk': False}"
      ]
     },
     "execution_count": 1,
     "metadata": {},
     "output_type": "execute_result"
    }
   ],
   "source": [
    "{'id': '51eabef6498e10cf3aea7942',\n",
    " 'name': 'Brooklyn Bridge Park - Pier 2',\n",
    " 'location': {'address': 'Furman St',\n",
    "  'crossStreet': 'Brooklyn Bridge Park Greenway',\n",
    "  'lat': 40.69957016220183,\n",
    "  'lng': -73.99793274204788,\n",
    "  'labeledLatLngs': [{'label': 'display',\n",
    "    'lat': 40.69957016220183,\n",
    "    'lng': -73.99793274204788}],\n",
    "  'distance': 180,\n",
    "  'postalCode': '11201',\n",
    "  'cc': 'US',\n",
    "  'city': 'Brooklyn',\n",
    "  'state': 'NY',\n",
    "  'country': 'United States',\n",
    "  'formattedAddress': ['Furman St (Brooklyn Bridge Park Greenway)',\n",
    "   'Brooklyn, NY 11201',\n",
    "   'United States']},\n",
    " 'categories': [{'id': '4e74f6cabd41c4836eac4c31',\n",
    "   'name': 'Pier',\n",
    "   'pluralName': 'Piers',\n",
    "   'shortName': 'Piers',\n",
    "   'icon': {'prefix': 'https://ss3.4sqi.net/img/categories_v2/travel/ferry_pier_',\n",
    "    'suffix': '.png'},\n",
    "   'primary': True}],\n",
    " 'referralId': 'v-1657284097',\n",
    " 'hasPerk': False}"
   ]
  },
  {
   "cell_type": "code",
   "execution_count": null,
   "id": "8fb85e82-7e70-452e-8ef4-6a95a5a05d2d",
   "metadata": {},
   "outputs": [],
   "source": []
  }
 ],
 "metadata": {
  "kernelspec": {
   "display_name": "Python 3 (ipykernel)",
   "language": "python",
   "name": "python3"
  },
  "language_info": {
   "codemirror_mode": {
    "name": "ipython",
    "version": 3
   },
   "file_extension": ".py",
   "mimetype": "text/x-python",
   "name": "python",
   "nbconvert_exporter": "python",
   "pygments_lexer": "ipython3",
   "version": "3.9.10"
  }
 },
 "nbformat": 4,
 "nbformat_minor": 5
}
