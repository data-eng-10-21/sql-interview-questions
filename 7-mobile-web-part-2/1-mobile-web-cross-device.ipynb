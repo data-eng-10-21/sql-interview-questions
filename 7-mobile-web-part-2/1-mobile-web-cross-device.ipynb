{
 "cells": [
  {
   "cell_type": "markdown",
   "id": "4224e4ba-810c-4575-9085-ae3583ed5590",
   "metadata": {},
   "source": [
    "# Cross Device Users"
   ]
  },
  {
   "cell_type": "markdown",
   "id": "2b4e6bd2-f0d0-4307-81bf-4068eb13e3ca",
   "metadata": {},
   "source": [
    "### Introduction"
   ]
  },
  {
   "cell_type": "markdown",
   "id": "12dd3d17-9251-4544-a082-3701b10ad4ef",
   "metadata": {},
   "source": [
    "We have two tables. One table has all mobile actions, i.e. all pages visited by the users on mobile. The other table has all web actions, i.e. all pages visited on web by the users."
   ]
  },
  {
   "cell_type": "markdown",
   "id": "7f63fe3d-d8e4-4922-8ebf-6197f0d3e92c",
   "metadata": {},
   "source": [
    "## Loading our Data"
   ]
  },
  {
   "cell_type": "code",
   "execution_count": 2,
   "id": "ed3cbd0b-84ca-4595-a979-ecb2142922b0",
   "metadata": {},
   "outputs": [],
   "source": [
    "import pandas as pd"
   ]
  },
  {
   "cell_type": "code",
   "execution_count": 4,
   "id": "e61817a0-a5af-40d4-90ed-ed8a945fb882",
   "metadata": {},
   "outputs": [],
   "source": [
    "mobile_actions = pd.read_csv('./query/query_two_mobile.csv')\n",
    "web_actions = pd.read_csv('./query/query_two_web.csv')"
   ]
  },
  {
   "cell_type": "markdown",
   "id": "987c2a6b-e764-46b1-b7ee-f510640113cd",
   "metadata": {},
   "source": [
    "We have two tables. One table has all mobile actions, i.e. all pages visited by the users on mobile. The other table has all web actions, i.e. all pages visited on web by the users.\n",
    "\n",
    "Write a query that returns the percentage of mobile users who did not visit web, and in a different column return the percentage of mobile users who also purchased web.  The sum of the percentages should return 1."
   ]
  },
  {
   "cell_type": "code",
   "execution_count": 5,
   "id": "1a549741-e483-4852-9098-bb2058a60ea1",
   "metadata": {},
   "outputs": [
    {
     "data": {
      "text/plain": [
       "2021"
      ]
     },
     "execution_count": 5,
     "metadata": {},
     "output_type": "execute_result"
    }
   ],
   "source": [
    "import sqlite3\n",
    "conn = sqlite3.connect('users.db')\n",
    "\n",
    "mobile_actions.to_sql('mobile_actions', conn, index = False, if_exists = 'replace')\n",
    "web_actions.to_sql('web_actions', conn, index = False, if_exists = 'replace')"
   ]
  },
  {
   "cell_type": "markdown",
   "id": "4d253ff0-3379-4c7f-93b2-80f44c54741d",
   "metadata": {},
   "source": [
    "### Exploring our Data"
   ]
  },
  {
   "cell_type": "markdown",
   "id": "b6d175e2-5716-4ecd-b6f3-9ba84da61375",
   "metadata": {},
   "source": [
    "In our database we have a list of `mobile_actions` and a unique list of `web_actions` in those respective tables."
   ]
  },
  {
   "cell_type": "code",
   "execution_count": 6,
   "id": "5a3e5ba6-62f1-402f-b80e-4e7bebfb3c5b",
   "metadata": {},
   "outputs": [
    {
     "data": {
      "text/html": [
       "<div>\n",
       "<style scoped>\n",
       "    .dataframe tbody tr th:only-of-type {\n",
       "        vertical-align: middle;\n",
       "    }\n",
       "\n",
       "    .dataframe tbody tr th {\n",
       "        vertical-align: top;\n",
       "    }\n",
       "\n",
       "    .dataframe thead th {\n",
       "        text-align: right;\n",
       "    }\n",
       "</style>\n",
       "<table border=\"1\" class=\"dataframe\">\n",
       "  <thead>\n",
       "    <tr style=\"text-align: right;\">\n",
       "      <th></th>\n",
       "      <th>user_id</th>\n",
       "      <th>page</th>\n",
       "    </tr>\n",
       "  </thead>\n",
       "  <tbody>\n",
       "    <tr>\n",
       "      <th>0</th>\n",
       "      <td>1210</td>\n",
       "      <td>page_1_web</td>\n",
       "    </tr>\n",
       "    <tr>\n",
       "      <th>1</th>\n",
       "      <td>1275</td>\n",
       "      <td>page_1_web</td>\n",
       "    </tr>\n",
       "    <tr>\n",
       "      <th>2</th>\n",
       "      <td>1283</td>\n",
       "      <td>page_4_web</td>\n",
       "    </tr>\n",
       "  </tbody>\n",
       "</table>\n",
       "</div>"
      ],
      "text/plain": [
       "   user_id        page\n",
       "0     1210  page_1_web\n",
       "1     1275  page_1_web\n",
       "2     1283  page_4_web"
      ]
     },
     "execution_count": 6,
     "metadata": {},
     "output_type": "execute_result"
    }
   ],
   "source": [
    "pd.read_sql(\"select * from web_actions limit 3\", conn)"
   ]
  },
  {
   "cell_type": "code",
   "execution_count": 7,
   "id": "5e4a807f-de94-49d4-9de4-a4a9e48b3d9a",
   "metadata": {},
   "outputs": [
    {
     "data": {
      "text/html": [
       "<div>\n",
       "<style scoped>\n",
       "    .dataframe tbody tr th:only-of-type {\n",
       "        vertical-align: middle;\n",
       "    }\n",
       "\n",
       "    .dataframe tbody tr th {\n",
       "        vertical-align: top;\n",
       "    }\n",
       "\n",
       "    .dataframe thead th {\n",
       "        text-align: right;\n",
       "    }\n",
       "</style>\n",
       "<table border=\"1\" class=\"dataframe\">\n",
       "  <thead>\n",
       "    <tr style=\"text-align: right;\">\n",
       "      <th></th>\n",
       "      <th>user_id</th>\n",
       "      <th>page</th>\n",
       "    </tr>\n",
       "  </thead>\n",
       "  <tbody>\n",
       "    <tr>\n",
       "      <th>0</th>\n",
       "      <td>128</td>\n",
       "      <td>page_5_mobile</td>\n",
       "    </tr>\n",
       "    <tr>\n",
       "      <th>1</th>\n",
       "      <td>1324</td>\n",
       "      <td>page_2_mobile</td>\n",
       "    </tr>\n",
       "    <tr>\n",
       "      <th>2</th>\n",
       "      <td>1343</td>\n",
       "      <td>page_6_mobile</td>\n",
       "    </tr>\n",
       "  </tbody>\n",
       "</table>\n",
       "</div>"
      ],
      "text/plain": [
       "   user_id           page\n",
       "0      128  page_5_mobile\n",
       "1     1324  page_2_mobile\n",
       "2     1343  page_6_mobile"
      ]
     },
     "execution_count": 7,
     "metadata": {},
     "output_type": "execute_result"
    }
   ],
   "source": [
    "pd.read_sql(\"select * from mobile_actions limit 3\", conn)"
   ]
  },
  {
   "cell_type": "markdown",
   "id": "a87eef0c-65f5-4f12-8612-7c95edea86d9",
   "metadata": {},
   "source": [
    "### Finding Web Only\n",
    "\n",
    "From the table of mobile actions, find the percentage of *web visitors* who did not visit on mobile."
   ]
  },
  {
   "cell_type": "markdown",
   "id": "abcbe73d-0bc4-4f97-b79f-1f004fb1e5c5",
   "metadata": {},
   "source": [
    "> **Hint**: to display the calculation, multiply the percentage by 100."
   ]
  },
  {
   "cell_type": "code",
   "execution_count": 21,
   "id": "f33477ac-31e0-4d8f-807b-fa693a39ed49",
   "metadata": {},
   "outputs": [
    {
     "data": {
      "text/html": [
       "<div>\n",
       "<style scoped>\n",
       "    .dataframe tbody tr th:only-of-type {\n",
       "        vertical-align: middle;\n",
       "    }\n",
       "\n",
       "    .dataframe tbody tr th {\n",
       "        vertical-align: top;\n",
       "    }\n",
       "\n",
       "    .dataframe thead th {\n",
       "        text-align: right;\n",
       "    }\n",
       "</style>\n",
       "<table border=\"1\" class=\"dataframe\">\n",
       "  <thead>\n",
       "    <tr style=\"text-align: right;\">\n",
       "      <th></th>\n",
       "      <th>is_mobile</th>\n",
       "      <th>is_web</th>\n",
       "    </tr>\n",
       "  </thead>\n",
       "  <tbody>\n",
       "    <tr>\n",
       "      <th>0</th>\n",
       "      <td>100</td>\n",
       "      <td>62</td>\n",
       "    </tr>\n",
       "  </tbody>\n",
       "</table>\n",
       "</div>"
      ],
      "text/plain": [
       "   is_mobile  is_web\n",
       "0        100      62"
      ]
     },
     "execution_count": 21,
     "metadata": {},
     "output_type": "execute_result"
    }
   ],
   "source": [
    "query = \"\"\"\n",
    "select 100*sum(case when mobile_users.user_id is not null then 1 else 0 end)/count(*) as is_mobile, \n",
    "100*sum(case when web_users.user_id is not null then 1 else 0 end)/count(*) as is_web\n",
    "from mobile_users \n",
    "left join (select distinct(user_id) from web_actions) web_users \n",
    "on web_users.user_id = mobile_users.user_id\n",
    "\"\"\"\n",
    "\n",
    "pd.read_sql(query, conn)\n",
    "\n",
    "# \tweb_but_not_mobile\n",
    "# 0\t23"
   ]
  },
  {
   "cell_type": "markdown",
   "id": "b9fe8e96-0e4a-46d4-bde6-32f7b555f69f",
   "metadata": {},
   "source": [
    "### Combining All Users"
   ]
  },
  {
   "cell_type": "markdown",
   "id": "233c8a41-850a-4557-b644-fd947b9c57c3",
   "metadata": {},
   "source": [
    "Another use case of subqueries is with a union.  Take a look at the [following description](https://mode.com/sql-tutorial/sql-sub-queries/#subqueries-and-unions) of how to use a subquery with unions."
   ]
  },
  {
   "cell_type": "markdown",
   "id": "81292e14-2b02-412c-8199-07fed6b7e5e3",
   "metadata": {},
   "source": [
    "Then, use a union and a subquery to create a count of all of the total number of users -- combining both web and mobile."
   ]
  },
  {
   "cell_type": "code",
   "execution_count": 29,
   "id": "02d9ebdc-6ea1-4ea2-b1d3-9aa2f5e969fe",
   "metadata": {},
   "outputs": [
    {
     "data": {
      "text/html": [
       "<div>\n",
       "<style scoped>\n",
       "    .dataframe tbody tr th:only-of-type {\n",
       "        vertical-align: middle;\n",
       "    }\n",
       "\n",
       "    .dataframe tbody tr th {\n",
       "        vertical-align: top;\n",
       "    }\n",
       "\n",
       "    .dataframe thead th {\n",
       "        text-align: right;\n",
       "    }\n",
       "</style>\n",
       "<table border=\"1\" class=\"dataframe\">\n",
       "  <thead>\n",
       "    <tr style=\"text-align: right;\">\n",
       "      <th></th>\n",
       "      <th>total_rows</th>\n",
       "    </tr>\n",
       "  </thead>\n",
       "  <tbody>\n",
       "    <tr>\n",
       "      <th>0</th>\n",
       "      <td>1833</td>\n",
       "    </tr>\n",
       "  </tbody>\n",
       "</table>\n",
       "</div>"
      ],
      "text/plain": [
       "   total_rows\n",
       "0        1833"
      ]
     },
     "execution_count": 29,
     "metadata": {},
     "output_type": "execute_result"
    }
   ],
   "source": [
    "query = \"\"\"\n",
    "select count(*) as total_rows FROM (select distinct(mobile_actions.user_id) from mobile_actions\n",
    "UNION\n",
    "select distinct(web_actions.user_id) from web_actions)\n",
    "\"\"\"\n",
    "\n",
    "pd.read_sql(query, conn)"
   ]
  },
  {
   "cell_type": "markdown",
   "id": "9c2c1015-1f08-4918-8db5-2af571c98222",
   "metadata": {},
   "source": [
    "> Remember that the difference between union and union all is that union all will not remove duplicate rows or records."
   ]
  },
  {
   "cell_type": "markdown",
   "id": "5595eafe-e52c-456a-a8e6-465f5e44b4d6",
   "metadata": {},
   "source": [
    "### Resources"
   ]
  },
  {
   "cell_type": "markdown",
   "id": "33fdf8d4-6364-461e-8b91-bda798b2f360",
   "metadata": {},
   "source": [
    "[subqueries](https://www.essentialsql.com/sql-subqueries/)"
   ]
  }
 ],
 "metadata": {
  "kernelspec": {
   "display_name": "Python 3 (ipykernel)",
   "language": "python",
   "name": "python3"
  },
  "language_info": {
   "codemirror_mode": {
    "name": "ipython",
    "version": 3
   },
   "file_extension": ".py",
   "mimetype": "text/x-python",
   "name": "python",
   "nbconvert_exporter": "python",
   "pygments_lexer": "ipython3",
   "version": "3.9.10"
  }
 },
 "nbformat": 4,
 "nbformat_minor": 5
}
