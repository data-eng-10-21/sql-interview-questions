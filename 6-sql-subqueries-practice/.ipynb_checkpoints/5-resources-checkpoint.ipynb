{
 "cells": [
  {
   "cell_type": "code",
   "execution_count": null,
   "id": "6d261321-2279-4e91-a5b8-b69f77025761",
   "metadata": {},
   "outputs": [],
   "source": []
  },
  {
   "cell_type": "markdown",
   "id": "793b1598-13d4-44bf-80f7-4830a1eca102",
   "metadata": {},
   "source": [
    "[Subquery resources](https://www.essentialsql.com/sql-subqueries/)"
   ]
  },
  {
   "cell_type": "code",
   "execution_count": null,
   "id": "2ddb7d92-8cb5-490f-853f-5592f9f2498e",
   "metadata": {},
   "outputs": [],
   "source": []
  }
 ],
 "metadata": {
  "kernelspec": {
   "display_name": "Python 3 (ipykernel)",
   "language": "python",
   "name": "python3"
  },
  "language_info": {
   "codemirror_mode": {
    "name": "ipython",
    "version": 3
   },
   "file_extension": ".py",
   "mimetype": "text/x-python",
   "name": "python",
   "nbconvert_exporter": "python",
   "pygments_lexer": "ipython3",
   "version": "3.9.10"
  }
 },
 "nbformat": 4,
 "nbformat_minor": 5
}
