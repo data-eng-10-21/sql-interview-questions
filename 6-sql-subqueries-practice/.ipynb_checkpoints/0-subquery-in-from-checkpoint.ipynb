{
 "cells": [
  {
   "cell_type": "markdown",
   "id": "2f8c2887-2321-4c21-94aa-770b35b626b2",
   "metadata": {},
   "source": [
    "# Breaking it into steps with Subqueries"
   ]
  },
  {
   "cell_type": "markdown",
   "id": "87a35fc5-7845-449f-bfb3-7cc8d5c7705b",
   "metadata": {},
   "source": [
    "### Introduction"
   ]
  },
  {
   "cell_type": "markdown",
   "id": "ebbbe82e-7dda-4f91-b3d8-d03211479bb8",
   "metadata": {},
   "source": [
    "In this lesson, we'll learn about writing subqueries.  With subqueries, we can create temporary tables that we can then reference later in our query.  Let's see this by way of example."
   ]
  },
  {
   "cell_type": "markdown",
   "id": "d7f5eca8-b978-4506-a191-098920b95981",
   "metadata": {},
   "source": [
    "### Loading our Data"
   ]
  },
  {
   "cell_type": "markdown",
   "id": "ad33eed1-8e8f-4a56-9947-93e32a980ca7",
   "metadata": {},
   "source": [
    "First, let's use sqlite to connect to a new database by running the following:"
   ]
  },
  {
   "cell_type": "code",
   "execution_count": 1,
   "id": "21964324-f355-42fd-b8e6-7206b1437d01",
   "metadata": {},
   "outputs": [],
   "source": [
    "import sqlite3\n",
    "conn = sqlite3.connect('schools.db')"
   ]
  },
  {
   "cell_type": "markdown",
   "id": "69439c34-e442-4525-bc84-9f19ca1f0290",
   "metadata": {},
   "source": [
    "And then let's load into data regarding various schools tuitions and salary potential, and create the related tables."
   ]
  },
  {
   "cell_type": "code",
   "execution_count": 2,
   "id": "4cde7f2e-cd5c-4573-8e2f-fe3e2e8354de",
   "metadata": {},
   "outputs": [],
   "source": [
    "import pandas as pd\n",
    "tuitions_df = pd.read_csv('https://raw.githubusercontent.com/data-eng-10-21/sql-subqueries/main/school_prices/tuition_income.csv')\n",
    "tuitions_df.to_sql('tuitions', conn, if_exists = 'replace')"
   ]
  },
  {
   "cell_type": "code",
   "execution_count": 3,
   "id": "5506ecdf-9ce0-44a5-b959-0bbf0c2787d5",
   "metadata": {},
   "outputs": [],
   "source": [
    "salary_potential_df = pd.read_csv('https://raw.githubusercontent.com/data-eng-10-21/sql-subqueries/main/school_prices/salary_potential.csv')\n",
    "salary_potential_df.to_sql('salaries', conn, if_exists = 'replace')"
   ]
  },
  {
   "cell_type": "markdown",
   "id": "01003986-a9da-4e35-a7bf-3d2718e81a89",
   "metadata": {
    "tags": []
   },
   "source": [
    "### Exploring our Data"
   ]
  },
  {
   "cell_type": "markdown",
   "id": "4e9930f0-63a9-44d3-8898-11fa64895d24",
   "metadata": {},
   "source": [
    "So in our schools database, we now have both salary and tuition data for various colleges.  Let's start by looking at some of the salary data."
   ]
  },
  {
   "cell_type": "code",
   "execution_count": 5,
   "id": "b64a206d-dc4b-4926-97a0-854b54a60bd0",
   "metadata": {},
   "outputs": [
    {
     "data": {
      "text/html": [
       "<div>\n",
       "<style scoped>\n",
       "    .dataframe tbody tr th:only-of-type {\n",
       "        vertical-align: middle;\n",
       "    }\n",
       "\n",
       "    .dataframe tbody tr th {\n",
       "        vertical-align: top;\n",
       "    }\n",
       "\n",
       "    .dataframe thead th {\n",
       "        text-align: right;\n",
       "    }\n",
       "</style>\n",
       "<table border=\"1\" class=\"dataframe\">\n",
       "  <thead>\n",
       "    <tr style=\"text-align: right;\">\n",
       "      <th></th>\n",
       "      <th>index</th>\n",
       "      <th>rank</th>\n",
       "      <th>name</th>\n",
       "      <th>state_name</th>\n",
       "      <th>early_career_pay</th>\n",
       "      <th>mid_career_pay</th>\n",
       "      <th>make_world_better_percent</th>\n",
       "      <th>stem_percent</th>\n",
       "    </tr>\n",
       "  </thead>\n",
       "  <tbody>\n",
       "    <tr>\n",
       "      <th>0</th>\n",
       "      <td>94</td>\n",
       "      <td>16</td>\n",
       "      <td>Adams State University</td>\n",
       "      <td>Colorado</td>\n",
       "      <td>44400</td>\n",
       "      <td>81400</td>\n",
       "      <td>56.0</td>\n",
       "      <td>3</td>\n",
       "    </tr>\n",
       "    <tr>\n",
       "      <th>1</th>\n",
       "      <td>136</td>\n",
       "      <td>14</td>\n",
       "      <td>Adventist University of Health Sciences</td>\n",
       "      <td>Florida</td>\n",
       "      <td>51600</td>\n",
       "      <td>89800</td>\n",
       "      <td>88.0</td>\n",
       "      <td>5</td>\n",
       "    </tr>\n",
       "    <tr>\n",
       "      <th>2</th>\n",
       "      <td>161</td>\n",
       "      <td>14</td>\n",
       "      <td>Agnes Scott College</td>\n",
       "      <td>Georgia</td>\n",
       "      <td>46000</td>\n",
       "      <td>83600</td>\n",
       "      <td>57.0</td>\n",
       "      <td>26</td>\n",
       "    </tr>\n",
       "  </tbody>\n",
       "</table>\n",
       "</div>"
      ],
      "text/plain": [
       "   index  rank                                     name state_name  \\\n",
       "0     94    16                   Adams State University   Colorado   \n",
       "1    136    14  Adventist University of Health Sciences    Florida   \n",
       "2    161    14                      Agnes Scott College    Georgia   \n",
       "\n",
       "   early_career_pay  mid_career_pay  make_world_better_percent  stem_percent  \n",
       "0             44400           81400                       56.0             3  \n",
       "1             51600           89800                       88.0             5  \n",
       "2             46000           83600                       57.0            26  "
      ]
     },
     "execution_count": 5,
     "metadata": {},
     "output_type": "execute_result"
    }
   ],
   "source": [
    "df = pd.read_sql(\"SELECT * FROM salaries ORDER BY name ASC\", conn)\n",
    "\n",
    "df[:3]"
   ]
  },
  {
   "cell_type": "markdown",
   "id": "32e32050-93c4-42ca-8a31-0faac0c703d2",
   "metadata": {},
   "source": [
    "> So we can see that we have each university, as well as the average `early_career_pay` and `mid_career_pay` among graduates, among other columns. "
   ]
  },
  {
   "cell_type": "markdown",
   "id": "695574e7-e11c-438e-8b49-0e9048eaa507",
   "metadata": {},
   "source": [
    "Next, let's take a look at some of the tuition data."
   ]
  },
  {
   "cell_type": "code",
   "execution_count": 6,
   "id": "795f23cc-e604-42d3-9ed2-4df3a9ac99d9",
   "metadata": {},
   "outputs": [
    {
     "data": {
      "text/html": [
       "<div>\n",
       "<style scoped>\n",
       "    .dataframe tbody tr th:only-of-type {\n",
       "        vertical-align: middle;\n",
       "    }\n",
       "\n",
       "    .dataframe tbody tr th {\n",
       "        vertical-align: top;\n",
       "    }\n",
       "\n",
       "    .dataframe thead th {\n",
       "        text-align: right;\n",
       "    }\n",
       "</style>\n",
       "<table border=\"1\" class=\"dataframe\">\n",
       "  <thead>\n",
       "    <tr style=\"text-align: right;\">\n",
       "      <th></th>\n",
       "      <th>index</th>\n",
       "      <th>name</th>\n",
       "      <th>state</th>\n",
       "      <th>total_price</th>\n",
       "      <th>year</th>\n",
       "      <th>campus</th>\n",
       "      <th>net_cost</th>\n",
       "      <th>income_lvl</th>\n",
       "    </tr>\n",
       "  </thead>\n",
       "  <tbody>\n",
       "    <tr>\n",
       "      <th>0</th>\n",
       "      <td>181033</td>\n",
       "      <td>AI Miami International University of Art and D...</td>\n",
       "      <td>FL</td>\n",
       "      <td>33319</td>\n",
       "      <td>2011</td>\n",
       "      <td>On Campus</td>\n",
       "      <td>23774.0</td>\n",
       "      <td>0 to 30,000</td>\n",
       "    </tr>\n",
       "    <tr>\n",
       "      <th>1</th>\n",
       "      <td>181034</td>\n",
       "      <td>AI Miami International University of Art and D...</td>\n",
       "      <td>FL</td>\n",
       "      <td>33319</td>\n",
       "      <td>2011</td>\n",
       "      <td>On Campus</td>\n",
       "      <td>24365.0</td>\n",
       "      <td>30,001 to 48,000</td>\n",
       "    </tr>\n",
       "    <tr>\n",
       "      <th>2</th>\n",
       "      <td>181035</td>\n",
       "      <td>AI Miami International University of Art and D...</td>\n",
       "      <td>FL</td>\n",
       "      <td>33319</td>\n",
       "      <td>2011</td>\n",
       "      <td>On Campus</td>\n",
       "      <td>27254.0</td>\n",
       "      <td>48_001 to 75,000</td>\n",
       "    </tr>\n",
       "  </tbody>\n",
       "</table>\n",
       "</div>"
      ],
      "text/plain": [
       "    index                                               name state  \\\n",
       "0  181033  AI Miami International University of Art and D...    FL   \n",
       "1  181034  AI Miami International University of Art and D...    FL   \n",
       "2  181035  AI Miami International University of Art and D...    FL   \n",
       "\n",
       "   total_price  year     campus  net_cost        income_lvl  \n",
       "0        33319  2011  On Campus   23774.0       0 to 30,000  \n",
       "1        33319  2011  On Campus   24365.0  30,001 to 48,000  \n",
       "2        33319  2011  On Campus   27254.0  48_001 to 75,000  "
      ]
     },
     "execution_count": 6,
     "metadata": {},
     "output_type": "execute_result"
    }
   ],
   "source": [
    "df = pd.read_sql(\"SELECT * FROM tuitions ORDER BY name ASC\", conn)\n",
    "\n",
    "df[:3]"
   ]
  },
  {
   "cell_type": "markdown",
   "id": "7f7ed6dd-0160-4c84-84b8-73496adc063d",
   "metadata": {},
   "source": [
    "> Here we can see that total price, as well as the average net cost (which likely takes into account scholarship information).  "
   ]
  },
  {
   "cell_type": "markdown",
   "id": "8115a9d9-b83e-4347-b9cd-b18ef29bcb3e",
   "metadata": {
    "tags": []
   },
   "source": [
    "### Setting up the problem"
   ]
  },
  {
   "cell_type": "markdown",
   "id": "56185249-1dac-4a83-8893-6b8390a4f894",
   "metadata": {},
   "source": [
    "Now one thing we may notice is that there are multiple rows for the same school, for the same year.  For example, above we see that Al Miami has multiple rows for 2011, expressing the net cost for different income brackets for that year.\n",
    "\n",
    "Let's say that we want to get an average total_price of each school per year, and then find the most recent average tuition for each school.  \n",
    "\n",
    "We can do so in two steps.  First we can calculate the average tuition per year by grouping our data by school name and year."
   ]
  },
  {
   "cell_type": "code",
   "execution_count": 12,
   "id": "20325389-e5ad-452f-be5b-a3597c0d6437",
   "metadata": {},
   "outputs": [],
   "source": [
    "df = pd.read_sql(\"\"\"SELECT name, state, avg(total_price) as avg_total_price, year \n",
    "FROM tuitions\n",
    "GROUP BY name, year\"\"\", conn)"
   ]
  },
  {
   "cell_type": "code",
   "execution_count": 20,
   "id": "2efe8eaf-d903-48b4-8b4d-349459b68676",
   "metadata": {},
   "outputs": [
    {
     "data": {
      "text/html": [
       "<div>\n",
       "<style scoped>\n",
       "    .dataframe tbody tr th:only-of-type {\n",
       "        vertical-align: middle;\n",
       "    }\n",
       "\n",
       "    .dataframe tbody tr th {\n",
       "        vertical-align: top;\n",
       "    }\n",
       "\n",
       "    .dataframe thead th {\n",
       "        text-align: right;\n",
       "    }\n",
       "</style>\n",
       "<table border=\"1\" class=\"dataframe\">\n",
       "  <thead>\n",
       "    <tr style=\"text-align: right;\">\n",
       "      <th></th>\n",
       "      <th>name</th>\n",
       "      <th>state</th>\n",
       "      <th>avg_total_price</th>\n",
       "      <th>year</th>\n",
       "    </tr>\n",
       "  </thead>\n",
       "  <tbody>\n",
       "    <tr>\n",
       "      <th>0</th>\n",
       "      <td>AI Miami International University of Art and D...</td>\n",
       "      <td>FL</td>\n",
       "      <td>37464.0</td>\n",
       "      <td>2010</td>\n",
       "    </tr>\n",
       "    <tr>\n",
       "      <th>1</th>\n",
       "      <td>AI Miami International University of Art and D...</td>\n",
       "      <td>FL</td>\n",
       "      <td>32231.5</td>\n",
       "      <td>2011</td>\n",
       "    </tr>\n",
       "    <tr>\n",
       "      <th>2</th>\n",
       "      <td>AI Miami International University of Art and D...</td>\n",
       "      <td>FL</td>\n",
       "      <td>32457.5</td>\n",
       "      <td>2012</td>\n",
       "    </tr>\n",
       "    <tr>\n",
       "      <th>3</th>\n",
       "      <td>AI Miami International University of Art and D...</td>\n",
       "      <td>FL</td>\n",
       "      <td>32689.0</td>\n",
       "      <td>2013</td>\n",
       "    </tr>\n",
       "    <tr>\n",
       "      <th>4</th>\n",
       "      <td>AI Miami International University of Art and D...</td>\n",
       "      <td>FL</td>\n",
       "      <td>32584.0</td>\n",
       "      <td>2014</td>\n",
       "    </tr>\n",
       "  </tbody>\n",
       "</table>\n",
       "</div>"
      ],
      "text/plain": [
       "                                                name state  avg_total_price  \\\n",
       "0  AI Miami International University of Art and D...    FL          37464.0   \n",
       "1  AI Miami International University of Art and D...    FL          32231.5   \n",
       "2  AI Miami International University of Art and D...    FL          32457.5   \n",
       "3  AI Miami International University of Art and D...    FL          32689.0   \n",
       "4  AI Miami International University of Art and D...    FL          32584.0   \n",
       "\n",
       "   year  \n",
       "0  2010  \n",
       "1  2011  \n",
       "2  2012  \n",
       "3  2013  \n",
       "4  2014  "
      ]
     },
     "execution_count": 20,
     "metadata": {},
     "output_type": "execute_result"
    }
   ],
   "source": [
    "df[:5]"
   ]
  },
  {
   "cell_type": "markdown",
   "id": "1b055f2b-bf06-41d3-b28d-81827e3ae58d",
   "metadata": {},
   "source": [
    "Happy that we now only one row per school, per year, we can save this as a new table."
   ]
  },
  {
   "cell_type": "code",
   "execution_count": 15,
   "id": "2a17b36c-e804-41e5-89c8-59b2e2bee42d",
   "metadata": {},
   "outputs": [],
   "source": [
    "df.to_sql('school_grouped_tuitions', conn, if_exists = 'replace')"
   ]
  },
  {
   "cell_type": "markdown",
   "id": "98e22ca9-62c6-4926-9015-88e24473ec55",
   "metadata": {},
   "source": [
    "And then we can query that table to find the most recent average tuition for each school. "
   ]
  },
  {
   "cell_type": "code",
   "execution_count": 17,
   "id": "373b41c9-74e8-4b92-ada6-4e9f09b90f1a",
   "metadata": {},
   "outputs": [
    {
     "data": {
      "text/html": [
       "<div>\n",
       "<style scoped>\n",
       "    .dataframe tbody tr th:only-of-type {\n",
       "        vertical-align: middle;\n",
       "    }\n",
       "\n",
       "    .dataframe tbody tr th {\n",
       "        vertical-align: top;\n",
       "    }\n",
       "\n",
       "    .dataframe thead th {\n",
       "        text-align: right;\n",
       "    }\n",
       "</style>\n",
       "<table border=\"1\" class=\"dataframe\">\n",
       "  <thead>\n",
       "    <tr style=\"text-align: right;\">\n",
       "      <th></th>\n",
       "      <th>name</th>\n",
       "      <th>avg_total_price</th>\n",
       "      <th>year</th>\n",
       "    </tr>\n",
       "  </thead>\n",
       "  <tbody>\n",
       "    <tr>\n",
       "      <th>0</th>\n",
       "      <td>AI Miami International University of Art and D...</td>\n",
       "      <td>33326.0</td>\n",
       "      <td>2017</td>\n",
       "    </tr>\n",
       "    <tr>\n",
       "      <th>1</th>\n",
       "      <td>ASA College</td>\n",
       "      <td>35526.0</td>\n",
       "      <td>2018</td>\n",
       "    </tr>\n",
       "  </tbody>\n",
       "</table>\n",
       "</div>"
      ],
      "text/plain": [
       "                                                name  avg_total_price  year\n",
       "0  AI Miami International University of Art and D...          33326.0  2017\n",
       "1                                        ASA College          35526.0  2018"
      ]
     },
     "execution_count": 17,
     "metadata": {},
     "output_type": "execute_result"
    }
   ],
   "source": [
    "pd.read_sql(\"\"\"SELECT name, avg_total_price, max(year) as year \n",
    "                 FROM school_grouped_tuitions GROUP BY name\"\"\", conn)[:2]"
   ]
  },
  {
   "cell_type": "markdown",
   "id": "671d0733-cb40-4886-bec3-925572014552",
   "metadata": {},
   "source": [
    "Now above, we performed this in two steps, by first calculating the average cost per school, per year in a table called `school_grouped_tuitions`.  We then referenced that table to find the average_price for the most recent school school per year.  It turns out that with subqueries we can perform each of these steps in a single statement.  Here's how."
   ]
  },
  {
   "cell_type": "markdown",
   "id": "8e3da458-adaf-4ce0-a8ed-5feec884c022",
   "metadata": {},
   "source": [
    "### Writing Subqueries"
   ]
  },
  {
   "cell_type": "markdown",
   "id": "bc4407f6-37cf-4d94-9290-e96d92645272",
   "metadata": {},
   "source": [
    "We again start with the query that groups by our tuition data by name and year. "
   ]
  },
  {
   "cell_type": "markdown",
   "id": "4e3e4b32-cbf7-4cc8-924b-7fb1da4d3ed0",
   "metadata": {},
   "source": [
    "```sql\n",
    "SELECT * FROM tuitions GROUP BY name, year\n",
    "```"
   ]
  },
  {
   "cell_type": "code",
   "execution_count": 21,
   "id": "00c37ba6-a9db-444f-832e-cc9b39531af6",
   "metadata": {},
   "outputs": [
    {
     "data": {
      "text/html": [
       "<div>\n",
       "<style scoped>\n",
       "    .dataframe tbody tr th:only-of-type {\n",
       "        vertical-align: middle;\n",
       "    }\n",
       "\n",
       "    .dataframe tbody tr th {\n",
       "        vertical-align: top;\n",
       "    }\n",
       "\n",
       "    .dataframe thead th {\n",
       "        text-align: right;\n",
       "    }\n",
       "</style>\n",
       "<table border=\"1\" class=\"dataframe\">\n",
       "  <thead>\n",
       "    <tr style=\"text-align: right;\">\n",
       "      <th></th>\n",
       "      <th>name</th>\n",
       "      <th>state</th>\n",
       "      <th>avg_total_price</th>\n",
       "      <th>year</th>\n",
       "    </tr>\n",
       "  </thead>\n",
       "  <tbody>\n",
       "    <tr>\n",
       "      <th>0</th>\n",
       "      <td>AI Miami International University of Art and D...</td>\n",
       "      <td>FL</td>\n",
       "      <td>37464.0</td>\n",
       "      <td>2010</td>\n",
       "    </tr>\n",
       "    <tr>\n",
       "      <th>1</th>\n",
       "      <td>AI Miami International University of Art and D...</td>\n",
       "      <td>FL</td>\n",
       "      <td>32231.5</td>\n",
       "      <td>2011</td>\n",
       "    </tr>\n",
       "  </tbody>\n",
       "</table>\n",
       "</div>"
      ],
      "text/plain": [
       "                                                name state  avg_total_price  \\\n",
       "0  AI Miami International University of Art and D...    FL          37464.0   \n",
       "1  AI Miami International University of Art and D...    FL          32231.5   \n",
       "\n",
       "   year  \n",
       "0  2010  \n",
       "1  2011  "
      ]
     },
     "execution_count": 21,
     "metadata": {},
     "output_type": "execute_result"
    }
   ],
   "source": [
    "tuitions_df = pd.read_sql(\"\"\"SELECT name, state,\n",
    "avg(total_price) as avg_total_price, year \n",
    "FROM tuitions\n",
    "GROUP BY name, year\"\"\", conn)\n",
    "tuitions_df[:2]"
   ]
  },
  {
   "cell_type": "markdown",
   "id": "d129ed93-24c3-4cc5-a47c-2db04790980f",
   "metadata": {},
   "source": [
    "And we can then reference these results by first wrapping the query in parentheses, using the `as` keyword to assign an alias, and then referencing that subquery."
   ]
  },
  {
   "cell_type": "markdown",
   "id": "32e2c97b-3d10-4112-a8fc-6ae6e24f28fa",
   "metadata": {},
   "source": [
    "```sql\n",
    "SELECT * FROM (SELECT * FROM tuitions GROUP BY name, year) as school_grouped_tuitions;\n",
    "```"
   ]
  },
  {
   "cell_type": "code",
   "execution_count": 22,
   "id": "b638ab78-a28a-409c-a2bc-66dff8a056f8",
   "metadata": {},
   "outputs": [
    {
     "data": {
      "text/html": [
       "<div>\n",
       "<style scoped>\n",
       "    .dataframe tbody tr th:only-of-type {\n",
       "        vertical-align: middle;\n",
       "    }\n",
       "\n",
       "    .dataframe tbody tr th {\n",
       "        vertical-align: top;\n",
       "    }\n",
       "\n",
       "    .dataframe thead th {\n",
       "        text-align: right;\n",
       "    }\n",
       "</style>\n",
       "<table border=\"1\" class=\"dataframe\">\n",
       "  <thead>\n",
       "    <tr style=\"text-align: right;\">\n",
       "      <th></th>\n",
       "      <th>name</th>\n",
       "      <th>state</th>\n",
       "      <th>avg_total_price</th>\n",
       "      <th>year</th>\n",
       "    </tr>\n",
       "  </thead>\n",
       "  <tbody>\n",
       "    <tr>\n",
       "      <th>0</th>\n",
       "      <td>AI Miami International University of Art and D...</td>\n",
       "      <td>FL</td>\n",
       "      <td>37464.0</td>\n",
       "      <td>2010</td>\n",
       "    </tr>\n",
       "    <tr>\n",
       "      <th>1</th>\n",
       "      <td>AI Miami International University of Art and D...</td>\n",
       "      <td>FL</td>\n",
       "      <td>32231.5</td>\n",
       "      <td>2011</td>\n",
       "    </tr>\n",
       "  </tbody>\n",
       "</table>\n",
       "</div>"
      ],
      "text/plain": [
       "                                                name state  avg_total_price  \\\n",
       "0  AI Miami International University of Art and D...    FL          37464.0   \n",
       "1  AI Miami International University of Art and D...    FL          32231.5   \n",
       "\n",
       "   year  \n",
       "0  2010  \n",
       "1  2011  "
      ]
     },
     "execution_count": 22,
     "metadata": {},
     "output_type": "execute_result"
    }
   ],
   "source": [
    "tuitions_df = pd.read_sql(\"\"\"\n",
    "SELECT * FROM (SELECT name, state,\n",
    "avg(total_price) as avg_total_price, year \n",
    "FROM tuitions\n",
    "GROUP BY name, year)\n",
    "\"\"\", conn)\n",
    "\n",
    "tuitions_df[:2]"
   ]
  },
  {
   "cell_type": "markdown",
   "id": "f8ea6be9-d953-4d95-9b03-42833c90fadf",
   "metadata": {},
   "source": [
    "So notice in the above, we reference the result of the subquery as if it were a table itself.  \n",
    "\n",
    "Now in the query above, we simply return all of the results of the subquery.  But this time, let's use the derived table to return only the most recent year avg_total_price per school."
   ]
  },
  {
   "cell_type": "code",
   "execution_count": 26,
   "id": "4ff707f9-240c-4c72-9a4d-0abde04dcfb1",
   "metadata": {},
   "outputs": [
    {
     "data": {
      "text/html": [
       "<div>\n",
       "<style scoped>\n",
       "    .dataframe tbody tr th:only-of-type {\n",
       "        vertical-align: middle;\n",
       "    }\n",
       "\n",
       "    .dataframe tbody tr th {\n",
       "        vertical-align: top;\n",
       "    }\n",
       "\n",
       "    .dataframe thead th {\n",
       "        text-align: right;\n",
       "    }\n",
       "</style>\n",
       "<table border=\"1\" class=\"dataframe\">\n",
       "  <thead>\n",
       "    <tr style=\"text-align: right;\">\n",
       "      <th></th>\n",
       "      <th>name</th>\n",
       "      <th>avg_total_price</th>\n",
       "      <th>year</th>\n",
       "    </tr>\n",
       "  </thead>\n",
       "  <tbody>\n",
       "    <tr>\n",
       "      <th>0</th>\n",
       "      <td>AI Miami International University of Art and D...</td>\n",
       "      <td>33326.0</td>\n",
       "      <td>2017</td>\n",
       "    </tr>\n",
       "    <tr>\n",
       "      <th>1</th>\n",
       "      <td>ASA College</td>\n",
       "      <td>35526.0</td>\n",
       "      <td>2018</td>\n",
       "    </tr>\n",
       "  </tbody>\n",
       "</table>\n",
       "</div>"
      ],
      "text/plain": [
       "                                                name  avg_total_price  year\n",
       "0  AI Miami International University of Art and D...          33326.0  2017\n",
       "1                                        ASA College          35526.0  2018"
      ]
     },
     "execution_count": 26,
     "metadata": {},
     "output_type": "execute_result"
    }
   ],
   "source": [
    "sql = \"\"\"SELECT name, avg_total_price, max(year) as year \n",
    "          FROM\n",
    "               (SELECT name, state, avg(total_price) as avg_total_price, year \n",
    "                FROM tuitions\n",
    "                GROUP BY name, year) as school_grouped_tuitions\n",
    "          GROUP BY name\n",
    "\"\"\"\n",
    "\n",
    "tuitions_df = pd.read_sql(sql, conn)\n",
    "tuitions_df[:2]"
   ]
  },
  {
   "cell_type": "markdown",
   "id": "e949f462-742e-48d3-b2a0-ab851334be5a",
   "metadata": {},
   "source": [
    "Let's see this in cleaner syntax."
   ]
  },
  {
   "cell_type": "markdown",
   "id": "2ac7e372-2e22-4936-8daf-1fcc0fa666eb",
   "metadata": {},
   "source": [
    "```sql \n",
    "SELECT name, avg_total_price, max(year) as year FROM\n",
    "               (SELECT name, state, avg(total_price) as avg_total_price, year \n",
    "                FROM tuitions\n",
    "                GROUP BY name, year) as school_grouped_tuitions\n",
    "          GROUP BY name\n",
    "```"
   ]
  },
  {
   "cell_type": "markdown",
   "id": "3413552b-b790-48e9-932b-85ae571d269d",
   "metadata": {},
   "source": [
    "So in the outer SELECT statement we select from the subquery -- or the derived table.  Notice also that the subquery itself is a valid select statement."
   ]
  },
  {
   "cell_type": "markdown",
   "id": "edb4b351-2ee1-448e-8ecf-69a20f3263c8",
   "metadata": {},
   "source": [
    "Finally, recognize that in the outer query we selected the `avg_total_price` column, which was created as an alias in our subquery.  So the point is that we really can treat the inner subquery just as a derived table."
   ]
  },
  {
   "cell_type": "markdown",
   "id": "9124f91c-76dc-4577-9816-db44c2380a25",
   "metadata": {},
   "source": [
    "### Subqueries all the way down"
   ]
  },
  {
   "cell_type": "markdown",
   "id": "a061260a-6ae3-44c8-9883-cc0bf1145817",
   "metadata": {},
   "source": [
    "Remember that our pattern for using a subquery is simply to write a select statement and wrap it in parentheses and assign an alias."
   ]
  },
  {
   "cell_type": "markdown",
   "id": "6f066905-6124-4789-80eb-a4acacf779f5",
   "metadata": {},
   "source": [
    "```sql \n",
    "(SELECT * FROM tuitions GROUP BY name, year) as school_grouped_tuitions\n",
    "```"
   ]
  },
  {
   "cell_type": "markdown",
   "id": "c19545a9-21ec-4bc3-80ec-fbac411bd7a2",
   "metadata": {},
   "source": [
    "If want, we can also turn our query above into a subquery by following the same pattern:"
   ]
  },
  {
   "cell_type": "markdown",
   "id": "12419c7c-927e-4443-bc11-3f9e57f193aa",
   "metadata": {},
   "source": [
    "> So we start with the following query:"
   ]
  },
  {
   "cell_type": "markdown",
   "id": "0870847e-4ee8-432d-a598-262c5f61b153",
   "metadata": {},
   "source": [
    "```sql\n",
    "SELECT name, avg_total_price, max(year) as year FROM\n",
    "               (SELECT name, state, avg(total_price) as avg_total_price, year \n",
    "                FROM tuitions\n",
    "                GROUP BY name, year) as school_grouped_tuitions\n",
    "          GROUP BY name\n",
    "```"
   ]
  },
  {
   "cell_type": "markdown",
   "id": "506beb2b-a9be-4216-812b-1ceae0310145",
   "metadata": {},
   "source": [
    "And then turn it into a subquery by wrapping the whole thing in parentheses and specifying an alias."
   ]
  },
  {
   "cell_type": "markdown",
   "id": "22052ddf-200f-44a6-8a92-188f561e5740",
   "metadata": {},
   "source": [
    "```sql\n",
    "SELECT * FROM \n",
    "        (SELECT name, avg_total_price, max(year) as year FROM\n",
    "               (SELECT name, state, avg(total_price) as avg_total_price, year \n",
    "                FROM tuitions\n",
    "                GROUP BY name, year) as school_grouped_tuitions\n",
    "          GROUP BY name) as tuitions\n",
    "```"
   ]
  },
  {
   "cell_type": "markdown",
   "id": "c35cc167-d88d-428b-b440-0c6a693b64f3",
   "metadata": {},
   "source": [
    "Below we show the result."
   ]
  },
  {
   "cell_type": "code",
   "execution_count": 27,
   "id": "d8e49360-2ee1-473c-b6d3-aac4dd1f800e",
   "metadata": {},
   "outputs": [
    {
     "data": {
      "text/html": [
       "<div>\n",
       "<style scoped>\n",
       "    .dataframe tbody tr th:only-of-type {\n",
       "        vertical-align: middle;\n",
       "    }\n",
       "\n",
       "    .dataframe tbody tr th {\n",
       "        vertical-align: top;\n",
       "    }\n",
       "\n",
       "    .dataframe thead th {\n",
       "        text-align: right;\n",
       "    }\n",
       "</style>\n",
       "<table border=\"1\" class=\"dataframe\">\n",
       "  <thead>\n",
       "    <tr style=\"text-align: right;\">\n",
       "      <th></th>\n",
       "      <th>name</th>\n",
       "      <th>avg_total_price</th>\n",
       "      <th>year</th>\n",
       "    </tr>\n",
       "  </thead>\n",
       "  <tbody>\n",
       "    <tr>\n",
       "      <th>0</th>\n",
       "      <td>AI Miami International University of Art and D...</td>\n",
       "      <td>33326.0</td>\n",
       "      <td>2017</td>\n",
       "    </tr>\n",
       "    <tr>\n",
       "      <th>1</th>\n",
       "      <td>ASA College</td>\n",
       "      <td>35526.0</td>\n",
       "      <td>2018</td>\n",
       "    </tr>\n",
       "  </tbody>\n",
       "</table>\n",
       "</div>"
      ],
      "text/plain": [
       "                                                name  avg_total_price  year\n",
       "0  AI Miami International University of Art and D...          33326.0  2017\n",
       "1                                        ASA College          35526.0  2018"
      ]
     },
     "execution_count": 27,
     "metadata": {},
     "output_type": "execute_result"
    }
   ],
   "source": [
    "sql = \"\"\"SELECT * FROM \n",
    "        (SELECT name, avg_total_price, max(year) as year FROM\n",
    "               (SELECT name, state, avg(total_price) as avg_total_price, year \n",
    "                FROM tuitions\n",
    "                GROUP BY name, year) as school_grouped_tuitions\n",
    "          GROUP BY name) as tuitions\"\"\"\n",
    "\n",
    "tuitions_df = pd.read_sql(sql, conn)\n",
    "tuitions_df[:2]"
   ]
  },
  {
   "cell_type": "markdown",
   "id": "ad5565ed-0234-4ff2-94ea-39949bea49d5",
   "metadata": {
    "tags": []
   },
   "source": [
    "### Summary"
   ]
  },
  {
   "cell_type": "markdown",
   "id": "2015e3fc-b235-401d-acae-f03c20732593",
   "metadata": {},
   "source": [
    "Subqueries allow us to create to treat the result of a SELECT statement as a derived table.  Doing so allows us to break our SQL calculations into steps.\n",
    "\n",
    "Above, we started with our select statement of:\n",
    "\n",
    "```sql\n",
    "SELECT name, state, avg(total_price) as avg_total_price, year  FROM tuitions GROUP BY name, year\n",
    "```\n",
    "And then turned it into a subquery by wrapping it in parentheses and setting the result to an alias.  Notice that the outer query is now selecting from the result of the subquery, `school_grouped_tuitions`."
   ]
  },
  {
   "cell_type": "markdown",
   "id": "3908e3cc-b824-4a22-9bb9-d09e0729bc08",
   "metadata": {},
   "source": [
    "```sql\n",
    "SELECT name, state, avg(total_price) as avg_total_price, year FROM (SELECT * FROM tuitions GROUP BY name, year) as school_grouped_tuitions;\n",
    "```"
   ]
  },
  {
   "cell_type": "code",
   "execution_count": 29,
   "id": "c79387c2-e40d-4d19-8696-ce4220eb2951",
   "metadata": {},
   "outputs": [
    {
     "data": {
      "text/html": [
       "<div>\n",
       "<style scoped>\n",
       "    .dataframe tbody tr th:only-of-type {\n",
       "        vertical-align: middle;\n",
       "    }\n",
       "\n",
       "    .dataframe tbody tr th {\n",
       "        vertical-align: top;\n",
       "    }\n",
       "\n",
       "    .dataframe thead th {\n",
       "        text-align: right;\n",
       "    }\n",
       "</style>\n",
       "<table border=\"1\" class=\"dataframe\">\n",
       "  <thead>\n",
       "    <tr style=\"text-align: right;\">\n",
       "      <th></th>\n",
       "      <th>name</th>\n",
       "      <th>state</th>\n",
       "      <th>avg_total_price</th>\n",
       "      <th>year</th>\n",
       "    </tr>\n",
       "  </thead>\n",
       "  <tbody>\n",
       "    <tr>\n",
       "      <th>0</th>\n",
       "      <td>AI Miami International University of Art and D...</td>\n",
       "      <td>FL</td>\n",
       "      <td>37464.0</td>\n",
       "      <td>2010</td>\n",
       "    </tr>\n",
       "    <tr>\n",
       "      <th>1</th>\n",
       "      <td>AI Miami International University of Art and D...</td>\n",
       "      <td>FL</td>\n",
       "      <td>32231.5</td>\n",
       "      <td>2011</td>\n",
       "    </tr>\n",
       "  </tbody>\n",
       "</table>\n",
       "</div>"
      ],
      "text/plain": [
       "                                                name state  avg_total_price  \\\n",
       "0  AI Miami International University of Art and D...    FL          37464.0   \n",
       "1  AI Miami International University of Art and D...    FL          32231.5   \n",
       "\n",
       "   year  \n",
       "0  2010  \n",
       "1  2011  "
      ]
     },
     "execution_count": 29,
     "metadata": {},
     "output_type": "execute_result"
    }
   ],
   "source": [
    "tuitions_df = pd.read_sql(\"\"\"\n",
    "SELECT * FROM (\n",
    " SELECT name, state, avg(total_price) as avg_total_price, year \n",
    "                FROM tuitions\n",
    "                GROUP BY name, year) as school_grouped_tutions\n",
    "\"\"\", conn)\n",
    "\n",
    "tuitions_df[:2]"
   ]
  },
  {
   "cell_type": "markdown",
   "id": "2e2417bc-cc2e-4ce4-b5fb-4b75098261a4",
   "metadata": {},
   "source": [
    "And then we further grouped these results so we only see the most recent record per year. "
   ]
  },
  {
   "cell_type": "markdown",
   "id": "2f93f7ed-a9f4-4bc0-bee9-06b1fc5ae69f",
   "metadata": {},
   "source": [
    "```sql\n",
    "SELECT name, avg_total_price, max(year) as year FROM\n",
    "               (SELECT name, state, avg(total_price) as avg_total_price, year \n",
    "                FROM tuitions\n",
    "                GROUP BY name, year) as school_grouped_tuitions\n",
    "          GROUP BY name\n",
    "```"
   ]
  },
  {
   "cell_type": "code",
   "execution_count": 30,
   "id": "1d34c106-099e-4b34-971d-df9c1262b6af",
   "metadata": {},
   "outputs": [
    {
     "data": {
      "text/html": [
       "<div>\n",
       "<style scoped>\n",
       "    .dataframe tbody tr th:only-of-type {\n",
       "        vertical-align: middle;\n",
       "    }\n",
       "\n",
       "    .dataframe tbody tr th {\n",
       "        vertical-align: top;\n",
       "    }\n",
       "\n",
       "    .dataframe thead th {\n",
       "        text-align: right;\n",
       "    }\n",
       "</style>\n",
       "<table border=\"1\" class=\"dataframe\">\n",
       "  <thead>\n",
       "    <tr style=\"text-align: right;\">\n",
       "      <th></th>\n",
       "      <th>name</th>\n",
       "      <th>avg_total_price</th>\n",
       "      <th>year</th>\n",
       "    </tr>\n",
       "  </thead>\n",
       "  <tbody>\n",
       "    <tr>\n",
       "      <th>0</th>\n",
       "      <td>AI Miami International University of Art and D...</td>\n",
       "      <td>33326.0</td>\n",
       "      <td>2017</td>\n",
       "    </tr>\n",
       "    <tr>\n",
       "      <th>1</th>\n",
       "      <td>ASA College</td>\n",
       "      <td>35526.0</td>\n",
       "      <td>2018</td>\n",
       "    </tr>\n",
       "  </tbody>\n",
       "</table>\n",
       "</div>"
      ],
      "text/plain": [
       "                                                name  avg_total_price  year\n",
       "0  AI Miami International University of Art and D...          33326.0  2017\n",
       "1                                        ASA College          35526.0  2018"
      ]
     },
     "execution_count": 30,
     "metadata": {},
     "output_type": "execute_result"
    }
   ],
   "source": [
    "sql = \"\"\"SELECT name, avg_total_price, max(year) as year FROM\n",
    "               (SELECT name, state, avg(total_price) as avg_total_price, year \n",
    "                FROM tuitions\n",
    "                GROUP BY name, year) as school_grouped_tuitions\n",
    "          GROUP BY name\"\"\"\n",
    "\n",
    "tuitions_df = pd.read_sql(sql, conn)\n",
    "tuitions_df[:2]"
   ]
  }
 ],
 "metadata": {
  "kernelspec": {
   "display_name": "Python 3 (ipykernel)",
   "language": "python",
   "name": "python3"
  },
  "language_info": {
   "codemirror_mode": {
    "name": "ipython",
    "version": 3
   },
   "file_extension": ".py",
   "mimetype": "text/x-python",
   "name": "python",
   "nbconvert_exporter": "python",
   "pygments_lexer": "ipython3",
   "version": "3.9.10"
  }
 },
 "nbformat": 4,
 "nbformat_minor": 5
}
