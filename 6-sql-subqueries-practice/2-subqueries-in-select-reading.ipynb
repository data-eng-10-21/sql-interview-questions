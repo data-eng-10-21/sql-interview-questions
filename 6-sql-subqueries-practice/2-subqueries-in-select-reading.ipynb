{
 "cells": [
  {
   "cell_type": "markdown",
   "id": "0f700ac2-5343-4450-82a8-2a9b44fd33e3",
   "metadata": {},
   "source": [
    "# Subqueries in WHERE Reading"
   ]
  },
  {
   "cell_type": "markdown",
   "id": "e28ba608-c1eb-4b43-82a2-4413f97dd54c",
   "metadata": {},
   "source": [
    "### Introduction"
   ]
  },
  {
   "cell_type": "markdown",
   "id": "752f5417-0e4e-4769-ac8f-f48d5ad71662",
   "metadata": {},
   "source": [
    "In this lesson, we'll see how we can use subqueries to select rows of data that meet certain conditions.  Let's get started."
   ]
  },
  {
   "cell_type": "markdown",
   "id": "ca5cf16e-1a65-49be-b534-62a6da61c58d",
   "metadata": {},
   "source": [
    "### Loading our Data"
   ]
  },
  {
   "cell_type": "markdown",
   "id": "f0f7a2fa-c105-4c8c-83b4-0e50d1b966e2",
   "metadata": {},
   "source": [
    "Let's begin by loading data that has various telecom financial information."
   ]
  },
  {
   "cell_type": "code",
   "execution_count": 1,
   "id": "f867c755-c286-4642-9e33-18b8d5b534db",
   "metadata": {},
   "outputs": [],
   "source": [
    "import pandas as pd\n",
    "companies_df = pd.read_csv('https://raw.githubusercontent.com/data-eng-10-21/sql-subqueries/main/telecom_companies.csv')"
   ]
  },
  {
   "cell_type": "markdown",
   "id": "b18dd909-6f38-4434-9d80-5738a6d531ed",
   "metadata": {},
   "source": [
    "Then we create a connection to a new database."
   ]
  },
  {
   "cell_type": "code",
   "execution_count": 8,
   "id": "6bf0313f-71bf-4f87-b9a3-0239fcd159de",
   "metadata": {},
   "outputs": [],
   "source": [
    "import sqlite3\n",
    "conn = sqlite3.connect('telecom.db')"
   ]
  },
  {
   "cell_type": "markdown",
   "id": "b9611df9-ea5e-4887-9903-ab9c30f9a372",
   "metadata": {},
   "source": [
    "And create a new table called `companies`."
   ]
  },
  {
   "cell_type": "code",
   "execution_count": 10,
   "id": "9acc56fa-1e53-4d64-b781-ba6bbe2e9de3",
   "metadata": {},
   "outputs": [],
   "source": [
    "companies_df.to_sql('companies', conn, if_exists = 'replace')"
   ]
  },
  {
   "cell_type": "code",
   "execution_count": 11,
   "id": "4983e12d-368b-4bdb-aef3-ee8da8863d57",
   "metadata": {},
   "outputs": [],
   "source": [
    "cursor = conn.cursor()"
   ]
  },
  {
   "cell_type": "code",
   "execution_count": 13,
   "id": "589f9119-c982-48cc-a14d-e17b5abaac40",
   "metadata": {},
   "outputs": [
    {
     "data": {
      "text/html": [
       "<div>\n",
       "<style scoped>\n",
       "    .dataframe tbody tr th:only-of-type {\n",
       "        vertical-align: middle;\n",
       "    }\n",
       "\n",
       "    .dataframe tbody tr th {\n",
       "        vertical-align: top;\n",
       "    }\n",
       "\n",
       "    .dataframe thead th {\n",
       "        text-align: right;\n",
       "    }\n",
       "</style>\n",
       "<table border=\"1\" class=\"dataframe\">\n",
       "  <thead>\n",
       "    <tr style=\"text-align: right;\">\n",
       "      <th></th>\n",
       "      <th>index</th>\n",
       "      <th>company_name</th>\n",
       "      <th>market_cap</th>\n",
       "      <th>stock_price</th>\n",
       "    </tr>\n",
       "  </thead>\n",
       "  <tbody>\n",
       "    <tr>\n",
       "      <th>0</th>\n",
       "      <td>0</td>\n",
       "      <td>Comcast</td>\n",
       "      <td>276.76</td>\n",
       "      <td>60.30</td>\n",
       "    </tr>\n",
       "    <tr>\n",
       "      <th>1</th>\n",
       "      <td>1</td>\n",
       "      <td>Verizon</td>\n",
       "      <td>226.96</td>\n",
       "      <td>54.82</td>\n",
       "    </tr>\n",
       "    <tr>\n",
       "      <th>2</th>\n",
       "      <td>2</td>\n",
       "      <td>AT&amp;T</td>\n",
       "      <td>195.77</td>\n",
       "      <td>27.42</td>\n",
       "    </tr>\n",
       "    <tr>\n",
       "      <th>3</th>\n",
       "      <td>3</td>\n",
       "      <td>T-Mobile US</td>\n",
       "      <td>167.81</td>\n",
       "      <td>134.47</td>\n",
       "    </tr>\n",
       "    <tr>\n",
       "      <th>4</th>\n",
       "      <td>4</td>\n",
       "      <td>Charter Communications</td>\n",
       "      <td>147.21</td>\n",
       "      <td>800.83</td>\n",
       "    </tr>\n",
       "    <tr>\n",
       "      <th>5</th>\n",
       "      <td>5</td>\n",
       "      <td>American Tower</td>\n",
       "      <td>136.18</td>\n",
       "      <td>299.22</td>\n",
       "    </tr>\n",
       "    <tr>\n",
       "      <th>6</th>\n",
       "      <td>6</td>\n",
       "      <td>China Mobile</td>\n",
       "      <td>128.13</td>\n",
       "      <td>6.26</td>\n",
       "    </tr>\n",
       "    <tr>\n",
       "      <th>7</th>\n",
       "      <td>7</td>\n",
       "      <td>Nippon Telegraph &amp; Telephone</td>\n",
       "      <td>107.08</td>\n",
       "      <td>29.61</td>\n",
       "    </tr>\n",
       "    <tr>\n",
       "      <th>8</th>\n",
       "      <td>8</td>\n",
       "      <td>SoftBank</td>\n",
       "      <td>106.81</td>\n",
       "      <td>62.35</td>\n",
       "    </tr>\n",
       "    <tr>\n",
       "      <th>9</th>\n",
       "      <td>9</td>\n",
       "      <td>Deutsche Telekom</td>\n",
       "      <td>100.64</td>\n",
       "      <td>21.22</td>\n",
       "    </tr>\n",
       "  </tbody>\n",
       "</table>\n",
       "</div>"
      ],
      "text/plain": [
       "   index                  company_name  market_cap  stock_price\n",
       "0      0                       Comcast      276.76        60.30\n",
       "1      1                       Verizon      226.96        54.82\n",
       "2      2                          AT&T      195.77        27.42\n",
       "3      3                   T-Mobile US      167.81       134.47\n",
       "4      4        Charter Communications      147.21       800.83\n",
       "5      5                American Tower      136.18       299.22\n",
       "6      6                  China Mobile      128.13         6.26\n",
       "7      7  Nippon Telegraph & Telephone      107.08        29.61\n",
       "8      8                      SoftBank      106.81        62.35\n",
       "9      9              Deutsche Telekom      100.64        21.22"
      ]
     },
     "execution_count": 13,
     "metadata": {},
     "output_type": "execute_result"
    }
   ],
   "source": [
    "pd.read_sql('SELECT * FROM companies LIMIT 10;',conn)"
   ]
  },
  {
   "cell_type": "markdown",
   "id": "eb2f3614-58bd-4a2d-b6bb-52042a1591d4",
   "metadata": {},
   "source": [
    "### Comparing vs Total"
   ]
  },
  {
   "cell_type": "markdown",
   "id": "2274e922-2c51-474a-a8b6-6039f9e16817",
   "metadata": {},
   "source": [
    "Selecting based on an earlier calculation.  Now let's say that we only want to select those companies who have market cap above the average of the listed comnpanies.  \n",
    "\n",
    "We can do so with a subquery, with the following:"
   ]
  },
  {
   "cell_type": "code",
   "execution_count": 16,
   "id": "20538789-e92d-4c14-90ba-ad0a77be682a",
   "metadata": {},
   "outputs": [
    {
     "data": {
      "text/html": [
       "<div>\n",
       "<style scoped>\n",
       "    .dataframe tbody tr th:only-of-type {\n",
       "        vertical-align: middle;\n",
       "    }\n",
       "\n",
       "    .dataframe tbody tr th {\n",
       "        vertical-align: top;\n",
       "    }\n",
       "\n",
       "    .dataframe thead th {\n",
       "        text-align: right;\n",
       "    }\n",
       "</style>\n",
       "<table border=\"1\" class=\"dataframe\">\n",
       "  <thead>\n",
       "    <tr style=\"text-align: right;\">\n",
       "      <th></th>\n",
       "      <th>index</th>\n",
       "      <th>company_name</th>\n",
       "      <th>market_cap</th>\n",
       "      <th>stock_price</th>\n",
       "    </tr>\n",
       "  </thead>\n",
       "  <tbody>\n",
       "    <tr>\n",
       "      <th>0</th>\n",
       "      <td>0</td>\n",
       "      <td>Comcast</td>\n",
       "      <td>276.76</td>\n",
       "      <td>60.30</td>\n",
       "    </tr>\n",
       "    <tr>\n",
       "      <th>1</th>\n",
       "      <td>1</td>\n",
       "      <td>Verizon</td>\n",
       "      <td>226.96</td>\n",
       "      <td>54.82</td>\n",
       "    </tr>\n",
       "  </tbody>\n",
       "</table>\n",
       "</div>"
      ],
      "text/plain": [
       "   index company_name  market_cap  stock_price\n",
       "0      0      Comcast      276.76        60.30\n",
       "1      1      Verizon      226.96        54.82"
      ]
     },
     "execution_count": 16,
     "metadata": {},
     "output_type": "execute_result"
    }
   ],
   "source": [
    "above_avg_df = pd.read_sql(\"\"\"SELECT * FROM companies \n",
    "WHERE market_cap > (SELECT AVG(market_cap) as avg_market_cap FROM companies);\"\"\",conn)\n",
    "above_avg_df[:2]"
   ]
  },
  {
   "cell_type": "markdown",
   "id": "ed2c8e86-acfa-4498-8bed-7f3cb1d4c1c2",
   "metadata": {},
   "source": [
    "So in the above, the subquery first finds the `average_market_cap`, and then we return just those rows where the company has a market cap above that calculated average."
   ]
  },
  {
   "cell_type": "markdown",
   "id": "64eb20c7-b069-43fd-bd34-fb5ccee5d953",
   "metadata": {},
   "source": [
    "If we want to find company with the lowest stock price, we could do so like so:"
   ]
  },
  {
   "cell_type": "code",
   "execution_count": 19,
   "id": "1013188f-78d9-410d-859c-db466a3dada4",
   "metadata": {},
   "outputs": [
    {
     "data": {
      "text/html": [
       "<div>\n",
       "<style scoped>\n",
       "    .dataframe tbody tr th:only-of-type {\n",
       "        vertical-align: middle;\n",
       "    }\n",
       "\n",
       "    .dataframe tbody tr th {\n",
       "        vertical-align: top;\n",
       "    }\n",
       "\n",
       "    .dataframe thead th {\n",
       "        text-align: right;\n",
       "    }\n",
       "</style>\n",
       "<table border=\"1\" class=\"dataframe\">\n",
       "  <thead>\n",
       "    <tr style=\"text-align: right;\">\n",
       "      <th></th>\n",
       "      <th>company_name</th>\n",
       "      <th>lowest_price</th>\n",
       "    </tr>\n",
       "  </thead>\n",
       "  <tbody>\n",
       "    <tr>\n",
       "      <th>0</th>\n",
       "      <td>Reliance Communications</td>\n",
       "      <td>0.04</td>\n",
       "    </tr>\n",
       "  </tbody>\n",
       "</table>\n",
       "</div>"
      ],
      "text/plain": [
       "              company_name  lowest_price\n",
       "0  Reliance Communications          0.04"
      ]
     },
     "execution_count": 19,
     "metadata": {},
     "output_type": "execute_result"
    }
   ],
   "source": [
    "lowest_price = pd.read_sql(\"\"\"SELECT company_name, MIN(stock_price) as lowest_price FROM companies \"\"\", conn)\n",
    "lowest_price[:2]\n"
   ]
  },
  {
   "cell_type": "markdown",
   "id": "7a6ca065-f119-49f0-ac62-8328c225a28c",
   "metadata": {},
   "source": [
    "However, it's preferred to use a subquery.  This is because the above query will only return at most one row.  However, if we use a subquery, we will make sure we return *all* rows that have this lowest price. "
   ]
  },
  {
   "cell_type": "markdown",
   "id": "de46132d-3c0f-489d-b2cc-667941329bc4",
   "metadata": {},
   "source": [
    "> Here this still only returns one company."
   ]
  },
  {
   "cell_type": "code",
   "execution_count": 26,
   "id": "6975322a-b527-4790-9f80-df40a4769be7",
   "metadata": {},
   "outputs": [
    {
     "data": {
      "text/html": [
       "<div>\n",
       "<style scoped>\n",
       "    .dataframe tbody tr th:only-of-type {\n",
       "        vertical-align: middle;\n",
       "    }\n",
       "\n",
       "    .dataframe tbody tr th {\n",
       "        vertical-align: top;\n",
       "    }\n",
       "\n",
       "    .dataframe thead th {\n",
       "        text-align: right;\n",
       "    }\n",
       "</style>\n",
       "<table border=\"1\" class=\"dataframe\">\n",
       "  <thead>\n",
       "    <tr style=\"text-align: right;\">\n",
       "      <th></th>\n",
       "      <th>company_name</th>\n",
       "      <th>stock_price</th>\n",
       "    </tr>\n",
       "  </thead>\n",
       "  <tbody>\n",
       "    <tr>\n",
       "      <th>0</th>\n",
       "      <td>Reliance Communications</td>\n",
       "      <td>0.04</td>\n",
       "    </tr>\n",
       "  </tbody>\n",
       "</table>\n",
       "</div>"
      ],
      "text/plain": [
       "              company_name  stock_price\n",
       "0  Reliance Communications         0.04"
      ]
     },
     "execution_count": 26,
     "metadata": {},
     "output_type": "execute_result"
    }
   ],
   "source": [
    "lowest_price = pd.read_sql(\"\"\"SELECT company_name, stock_price \n",
    "FROM companies \n",
    "WHERE stock_price = (SELECT MIN(stock_price) FROM companies)\"\"\", conn)\n",
    "lowest_price\n"
   ]
  },
  {
   "cell_type": "markdown",
   "id": "fb71600d-758a-401d-af78-97be8ffda40b",
   "metadata": {},
   "source": [
    "But, if we want to return all companies within ten cents of the lowest stock price, we can do so with the following:"
   ]
  },
  {
   "cell_type": "code",
   "execution_count": 27,
   "id": "9aa0582c-e4dc-4366-b41c-827c0bb9051e",
   "metadata": {},
   "outputs": [
    {
     "data": {
      "text/html": [
       "<div>\n",
       "<style scoped>\n",
       "    .dataframe tbody tr th:only-of-type {\n",
       "        vertical-align: middle;\n",
       "    }\n",
       "\n",
       "    .dataframe tbody tr th {\n",
       "        vertical-align: top;\n",
       "    }\n",
       "\n",
       "    .dataframe thead th {\n",
       "        text-align: right;\n",
       "    }\n",
       "</style>\n",
       "<table border=\"1\" class=\"dataframe\">\n",
       "  <thead>\n",
       "    <tr style=\"text-align: right;\">\n",
       "      <th></th>\n",
       "      <th>company_name</th>\n",
       "      <th>stock_price</th>\n",
       "    </tr>\n",
       "  </thead>\n",
       "  <tbody>\n",
       "    <tr>\n",
       "      <th>0</th>\n",
       "      <td>Sarana Menara Nusantara</td>\n",
       "      <td>0.09</td>\n",
       "    </tr>\n",
       "    <tr>\n",
       "      <th>1</th>\n",
       "      <td>Vodafone Idea</td>\n",
       "      <td>0.11</td>\n",
       "    </tr>\n",
       "    <tr>\n",
       "      <th>2</th>\n",
       "      <td>Reliance Communications</td>\n",
       "      <td>0.04</td>\n",
       "    </tr>\n",
       "  </tbody>\n",
       "</table>\n",
       "</div>"
      ],
      "text/plain": [
       "              company_name  stock_price\n",
       "0  Sarana Menara Nusantara         0.09\n",
       "1            Vodafone Idea         0.11\n",
       "2  Reliance Communications         0.04"
      ]
     },
     "execution_count": 27,
     "metadata": {},
     "output_type": "execute_result"
    }
   ],
   "source": [
    "lowest_price = pd.read_sql(\"\"\"SELECT company_name, stock_price \n",
    "FROM companies \n",
    "WHERE stock_price < (SELECT MIN(stock_price) FROM companies) + .1\"\"\", conn)\n",
    "lowest_price\n"
   ]
  },
  {
   "cell_type": "markdown",
   "id": "118e51ac-3073-474b-994b-6e1fe8142ac8",
   "metadata": {},
   "source": [
    "### Resources"
   ]
  },
  {
   "cell_type": "markdown",
   "id": "ee29add8-32b3-4b9a-9130-0c12001cd919",
   "metadata": {},
   "source": [
    "[Subqueries in Select](https://www.essentialsql.com/get-ready-to-learn-sql-server-20-using-subqueries-in-the-select-statement/)\n",
    "\n",
    "[Correlated Subqueries](https://stackoverflow.com/questions/18909388/using-partition-clause-in-the-subquery)\n",
    "\n",
    "[Multiple Columns in Subquery](https://stackoverflow.com/questions/583954/how-can-i-select-multiple-columns-from-a-subquery-in-sql-server-that-should-ha)"
   ]
  }
 ],
 "metadata": {
  "kernelspec": {
   "display_name": "Python 3 (ipykernel)",
   "language": "python",
   "name": "python3"
  },
  "language_info": {
   "codemirror_mode": {
    "name": "ipython",
    "version": 3
   },
   "file_extension": ".py",
   "mimetype": "text/x-python",
   "name": "python",
   "nbconvert_exporter": "python",
   "pygments_lexer": "ipython3",
   "version": "3.9.7"
  }
 },
 "nbformat": 4,
 "nbformat_minor": 5
}
